{
  "cells": [
    {
      "cell_type": "markdown",
      "metadata": {
        "id": "3l6xdi_Q7bwN"
      },
      "source": [
        "1. Download the Dataset\n",
        "steps:\n",
        "* Install required libraries\n",
        "* Download data from Kaggle\n",
        "* View dataset files\n",
        "*Load training set with Pandas\n",
        "*Load test set with Pandas\n"
      ]
    },
    {
      "cell_type": "code",
      "execution_count": 1,
      "metadata": {
        "id": "66pJKR8_7-5t"
      },
      "outputs": [],
      "source": [
        "#Install Required Libraries\n",
        "!pip install jovian opendatasets pandas numpy scikit-learn xgboost --quiet"
      ]
    },
    {
      "cell_type": "code",
      "execution_count": 2,
      "metadata": {
        "id": "q4MQaKdn61X6"
      },
      "outputs": [],
      "source": [
        "import jovian\n"
      ]
    },
    {
      "cell_type": "code",
      "execution_count": 3,
      "metadata": {
        "colab": {
          "base_uri": "https://localhost:8080/"
        },
        "id": "L86VaEsj8sG_",
        "outputId": "c4ac553a-75a4-4902-d7f0-f6a55e5866cd"
      },
      "outputs": [
        {
          "output_type": "stream",
          "name": "stdout",
          "text": [
            "[jovian] Detected Colab notebook...\u001b[0m\n"
          ]
        },
        {
          "output_type": "stream",
          "name": "stderr",
          "text": [
            "\u001b[31m[jovian] Error: jovian.commit doesn't work on Colab unless the notebook was created and executed from Jovian.\n",
            "Make sure to run the first code cell at the top after executing from Jovian.\n",
            "Alternatively, you can download this notebook and upload it manually to Jovian.\n",
            "Learn more: https://jovian.ai/docs/user-guide/run.html#run-on-colab\u001b[0m\n"
          ]
        }
      ],
      "source": [
        "jovian.commit()"
      ]
    },
    {
      "cell_type": "code",
      "execution_count": 4,
      "metadata": {
        "id": "qD5v5aMS81OS"
      },
      "outputs": [],
      "source": [
        "import pandas as pd\n",
        "import numpy as np\n",
        "import seaborn as sns\n",
        "import matplotlib.pyplot as plt\n",
        "import warnings\n",
        "warnings.filterwarnings('ignore')"
      ]
    },
    {
      "cell_type": "code",
      "execution_count": 5,
      "metadata": {
        "id": "fqEnnDeI_EBX"
      },
      "outputs": [],
      "source": [
        "\n",
        "dataset_url = 'https://www.kaggle.com/c/new-york-city-taxi-fare-prediction'"
      ]
    },
    {
      "cell_type": "code",
      "execution_count": 6,
      "metadata": {
        "id": "nkxnt8TVQSWS"
      },
      "outputs": [],
      "source": [
        "import random"
      ]
    },
    {
      "cell_type": "code",
      "execution_count": 7,
      "metadata": {
        "colab": {
          "base_uri": "https://localhost:8080/"
        },
        "id": "P9MX-lz5QV8c",
        "outputId": "3475342d-4c6c-4228-d3e2-08ad36f40c86"
      },
      "outputs": [
        {
          "output_type": "execute_result",
          "data": {
            "text/plain": [
              "0.5771745835135499"
            ]
          },
          "metadata": {},
          "execution_count": 7
        }
      ],
      "source": [
        "random.random()"
      ]
    },
    {
      "cell_type": "code",
      "source": [
        "sample_fraction = 0.01"
      ],
      "metadata": {
        "id": "xfN3pqveYMkI"
      },
      "execution_count": 8,
      "outputs": []
    },
    {
      "cell_type": "code",
      "execution_count": 9,
      "metadata": {
        "id": "415uRNrsPzDe"
      },
      "outputs": [],
      "source": [
        "\n",
        "def skip_row(row_idx):\n",
        "  if row_idx == 0:\n",
        "    return False\n",
        "  return random.random() > sample_fraction\n",
        "\n",
        "random.seed(42)"
      ]
    },
    {
      "cell_type": "code",
      "execution_count": 10,
      "metadata": {
        "id": "kXTpwN7vNs4w"
      },
      "outputs": [],
      "source": [
        "selected_col = 'fare_amount,\tpickup_datetime,\tpickup_longitude,\tpickup_latitude,\tdropoff_longitude, dropoff_latitude,\tpassenger_count'.split(',')"
      ]
    },
    {
      "cell_type": "code",
      "execution_count": 11,
      "metadata": {
        "id": "6uZkFXYtN_1T"
      },
      "outputs": [],
      "source": [
        "\n",
        "dtypes = {\n",
        "    'fare_amount' : 'float32',\n",
        "    'pickup_datetime': 'float32',\n",
        "    'pickup_longitude': 'float32',\n",
        "    'pickup_latitude': 'float32',\n",
        "    'dropoff_longitude':'float32',\n",
        "    'dropoff_latitude': 'float32',\n",
        "    'passenger_count':'int32'\n",
        " }"
      ]
    },
    {
      "cell_type": "code",
      "execution_count": 12,
      "metadata": {
        "id": "6tmM7OWX_hjl"
      },
      "outputs": [],
      "source": [
        "# Load files\n",
        "train = pd.read_csv('train.csv', dtype = dtypes, parse_dates = ['pickup_datetime'], skiprows = skip_row)\n",
        "test = pd.read_csv('test.csv', parse_dates= ['pickup_datetime'])\n",
        "sub = pd.read_csv('sample_submission.csv')"
      ]
    },
    {
      "cell_type": "code",
      "execution_count": 13,
      "metadata": {
        "colab": {
          "base_uri": "https://localhost:8080/"
        },
        "id": "62zOgku4Chki",
        "outputId": "d2f8d8d0-ff6d-4e69-84ba-1c2c98cddacd"
      },
      "outputs": [
        {
          "output_type": "stream",
          "name": "stdout",
          "text": [
            "ls: cannot access 'key': No such file or directory\n",
            "ls: cannot access 'fare_amount': No such file or directory\n",
            "ls: cannot access '...': No such file or directory\n",
            "ls: cannot access 'dropoff_latitude': No such file or directory\n",
            "ls: cannot access 'passenger_count': No such file or directory\n",
            "/bin/bash: line 1: 0: command not found\n",
            "/bin/bash: line 2: 1: command not found\n",
            "/bin/bash: line 3: 2: command not found\n",
            "/bin/bash: line 4: 3: command not found\n",
            "/bin/bash: line 5: 4: command not found\n",
            "/bin/bash: line 6: ...: command not found\n",
            "/bin/bash: line 7: 10440: command not found\n",
            "/bin/bash: line 8: 10441: command not found\n",
            "/bin/bash: line 9: 10442: command not found\n",
            "/bin/bash: line 10: 10443: command not found\n",
            "/bin/bash: line 11: 10444: command not found\n",
            "/bin/bash: line 13: [10445: command not found\n"
          ]
        }
      ],
      "source": [
        "!ls -lh{train}"
      ]
    },
    {
      "cell_type": "code",
      "execution_count": 14,
      "metadata": {
        "colab": {
          "base_uri": "https://localhost:8080/"
        },
        "id": "z0t9suclDLoR",
        "outputId": "19f29a49-1f51-46ab-b6e8-4aaf2ef3da0f"
      },
      "outputs": [
        {
          "output_type": "execute_result",
          "data": {
            "text/plain": [
              "83560"
            ]
          },
          "metadata": {},
          "execution_count": 14
        }
      ],
      "source": [
        "train.size"
      ]
    },
    {
      "cell_type": "code",
      "execution_count": 15,
      "metadata": {
        "colab": {
          "base_uri": "https://localhost:8080/"
        },
        "id": "_r18e0IzIs76",
        "outputId": "4ef721e4-4abd-4f2c-8dbe-88ea2709a8ea"
      },
      "outputs": [
        {
          "output_type": "execute_result",
          "data": {
            "text/plain": [
              "69398"
            ]
          },
          "metadata": {},
          "execution_count": 15
        }
      ],
      "source": [
        "test.size"
      ]
    },
    {
      "cell_type": "code",
      "execution_count": 16,
      "metadata": {
        "colab": {
          "base_uri": "https://localhost:8080/"
        },
        "id": "A6JoOkRFJEjm",
        "outputId": "32627d9a-71ad-4bd0-c861-234679fdcf49"
      },
      "outputs": [
        {
          "output_type": "execute_result",
          "data": {
            "text/plain": [
              "19828"
            ]
          },
          "metadata": {},
          "execution_count": 16
        }
      ],
      "source": [
        "sub.size"
      ]
    },
    {
      "cell_type": "code",
      "execution_count": 17,
      "metadata": {
        "colab": {
          "base_uri": "https://localhost:8080/",
          "height": 206
        },
        "id": "zRrIZXCoJPBf",
        "outputId": "11e496b6-21fc-432b-e9b0-4932295aab7b"
      },
      "outputs": [
        {
          "output_type": "execute_result",
          "data": {
            "text/html": [
              "<div>\n",
              "<style scoped>\n",
              "    .dataframe tbody tr th:only-of-type {\n",
              "        vertical-align: middle;\n",
              "    }\n",
              "\n",
              "    .dataframe tbody tr th {\n",
              "        vertical-align: top;\n",
              "    }\n",
              "\n",
              "    .dataframe thead th {\n",
              "        text-align: right;\n",
              "    }\n",
              "</style>\n",
              "<table border=\"1\" class=\"dataframe\">\n",
              "  <thead>\n",
              "    <tr style=\"text-align: right;\">\n",
              "      <th></th>\n",
              "      <th>key</th>\n",
              "      <th>fare_amount</th>\n",
              "      <th>pickup_datetime</th>\n",
              "      <th>pickup_longitude</th>\n",
              "      <th>pickup_latitude</th>\n",
              "      <th>dropoff_longitude</th>\n",
              "      <th>dropoff_latitude</th>\n",
              "      <th>passenger_count</th>\n",
              "    </tr>\n",
              "  </thead>\n",
              "  <tbody>\n",
              "    <tr>\n",
              "      <th>0</th>\n",
              "      <td>36:22.0</td>\n",
              "      <td>4.0</td>\n",
              "      <td>2014-12-06 20:36:22+00:00</td>\n",
              "      <td>-73.979813</td>\n",
              "      <td>40.751904</td>\n",
              "      <td>-73.979446</td>\n",
              "      <td>40.755482</td>\n",
              "      <td>1</td>\n",
              "    </tr>\n",
              "    <tr>\n",
              "      <th>1</th>\n",
              "      <td>22:00.0</td>\n",
              "      <td>8.0</td>\n",
              "      <td>2013-01-17 17:22:00+00:00</td>\n",
              "      <td>0.000000</td>\n",
              "      <td>0.000000</td>\n",
              "      <td>0.000000</td>\n",
              "      <td>0.000000</td>\n",
              "      <td>2</td>\n",
              "    </tr>\n",
              "    <tr>\n",
              "      <th>2</th>\n",
              "      <td>07:00.0</td>\n",
              "      <td>8.9</td>\n",
              "      <td>2011-06-15 18:07:00+00:00</td>\n",
              "      <td>-73.996330</td>\n",
              "      <td>40.753223</td>\n",
              "      <td>-73.978897</td>\n",
              "      <td>40.766964</td>\n",
              "      <td>3</td>\n",
              "    </tr>\n",
              "    <tr>\n",
              "      <th>3</th>\n",
              "      <td>33:00.0</td>\n",
              "      <td>6.9</td>\n",
              "      <td>2009-12-14 12:33:00+00:00</td>\n",
              "      <td>-73.982430</td>\n",
              "      <td>40.745747</td>\n",
              "      <td>-73.982430</td>\n",
              "      <td>40.745747</td>\n",
              "      <td>1</td>\n",
              "    </tr>\n",
              "    <tr>\n",
              "      <th>4</th>\n",
              "      <td>26:54.0</td>\n",
              "      <td>7.0</td>\n",
              "      <td>2013-11-06 11:26:54+00:00</td>\n",
              "      <td>-73.959061</td>\n",
              "      <td>40.781059</td>\n",
              "      <td>-73.962059</td>\n",
              "      <td>40.768604</td>\n",
              "      <td>1</td>\n",
              "    </tr>\n",
              "  </tbody>\n",
              "</table>\n",
              "</div>"
            ],
            "text/plain": [
              "       key  fare_amount  ... dropoff_latitude  passenger_count\n",
              "0  36:22.0          4.0  ...        40.755482                1\n",
              "1  22:00.0          8.0  ...         0.000000                2\n",
              "2  07:00.0          8.9  ...        40.766964                3\n",
              "3  33:00.0          6.9  ...        40.745747                1\n",
              "4  26:54.0          7.0  ...        40.768604                1\n",
              "\n",
              "[5 rows x 8 columns]"
            ]
          },
          "metadata": {},
          "execution_count": 17
        }
      ],
      "source": [
        "train.head()"
      ]
    },
    {
      "cell_type": "code",
      "execution_count": 18,
      "metadata": {
        "colab": {
          "base_uri": "https://localhost:8080/",
          "height": 206
        },
        "id": "hGUa64dOJUMd",
        "outputId": "eff93a41-e2ba-47fa-c86a-3bde139c566b"
      },
      "outputs": [
        {
          "output_type": "execute_result",
          "data": {
            "text/html": [
              "<div>\n",
              "<style scoped>\n",
              "    .dataframe tbody tr th:only-of-type {\n",
              "        vertical-align: middle;\n",
              "    }\n",
              "\n",
              "    .dataframe tbody tr th {\n",
              "        vertical-align: top;\n",
              "    }\n",
              "\n",
              "    .dataframe thead th {\n",
              "        text-align: right;\n",
              "    }\n",
              "</style>\n",
              "<table border=\"1\" class=\"dataframe\">\n",
              "  <thead>\n",
              "    <tr style=\"text-align: right;\">\n",
              "      <th></th>\n",
              "      <th>key</th>\n",
              "      <th>pickup_datetime</th>\n",
              "      <th>pickup_longitude</th>\n",
              "      <th>pickup_latitude</th>\n",
              "      <th>dropoff_longitude</th>\n",
              "      <th>dropoff_latitude</th>\n",
              "      <th>passenger_count</th>\n",
              "    </tr>\n",
              "  </thead>\n",
              "  <tbody>\n",
              "    <tr>\n",
              "      <th>0</th>\n",
              "      <td>08:24.0</td>\n",
              "      <td>2015-01-27 13:08:24+00:00</td>\n",
              "      <td>-73.973320</td>\n",
              "      <td>40.763805</td>\n",
              "      <td>-73.981430</td>\n",
              "      <td>40.743835</td>\n",
              "      <td>1</td>\n",
              "    </tr>\n",
              "    <tr>\n",
              "      <th>1</th>\n",
              "      <td>08:24.0</td>\n",
              "      <td>2015-01-27 13:08:24+00:00</td>\n",
              "      <td>-73.986862</td>\n",
              "      <td>40.719383</td>\n",
              "      <td>-73.998886</td>\n",
              "      <td>40.739201</td>\n",
              "      <td>1</td>\n",
              "    </tr>\n",
              "    <tr>\n",
              "      <th>2</th>\n",
              "      <td>53:44.0</td>\n",
              "      <td>2011-10-08 11:53:44+00:00</td>\n",
              "      <td>-73.982524</td>\n",
              "      <td>40.751260</td>\n",
              "      <td>-73.979654</td>\n",
              "      <td>40.746139</td>\n",
              "      <td>1</td>\n",
              "    </tr>\n",
              "    <tr>\n",
              "      <th>3</th>\n",
              "      <td>12:12.0</td>\n",
              "      <td>2012-12-01 21:12:12+00:00</td>\n",
              "      <td>-73.981160</td>\n",
              "      <td>40.767807</td>\n",
              "      <td>-73.990448</td>\n",
              "      <td>40.751635</td>\n",
              "      <td>1</td>\n",
              "    </tr>\n",
              "    <tr>\n",
              "      <th>4</th>\n",
              "      <td>12:12.0</td>\n",
              "      <td>2012-12-01 21:12:12+00:00</td>\n",
              "      <td>-73.966046</td>\n",
              "      <td>40.789775</td>\n",
              "      <td>-73.988565</td>\n",
              "      <td>40.744427</td>\n",
              "      <td>1</td>\n",
              "    </tr>\n",
              "  </tbody>\n",
              "</table>\n",
              "</div>"
            ],
            "text/plain": [
              "       key           pickup_datetime  ...  dropoff_latitude  passenger_count\n",
              "0  08:24.0 2015-01-27 13:08:24+00:00  ...         40.743835                1\n",
              "1  08:24.0 2015-01-27 13:08:24+00:00  ...         40.739201                1\n",
              "2  53:44.0 2011-10-08 11:53:44+00:00  ...         40.746139                1\n",
              "3  12:12.0 2012-12-01 21:12:12+00:00  ...         40.751635                1\n",
              "4  12:12.0 2012-12-01 21:12:12+00:00  ...         40.744427                1\n",
              "\n",
              "[5 rows x 7 columns]"
            ]
          },
          "metadata": {},
          "execution_count": 18
        }
      ],
      "source": [
        "test.head()"
      ]
    },
    {
      "cell_type": "code",
      "execution_count": 19,
      "metadata": {
        "colab": {
          "base_uri": "https://localhost:8080/",
          "height": 206
        },
        "id": "j-5nF42EJjFI",
        "outputId": "2935a1f1-5ab7-47bc-903c-40859acf8a1a"
      },
      "outputs": [
        {
          "output_type": "execute_result",
          "data": {
            "text/html": [
              "<div>\n",
              "<style scoped>\n",
              "    .dataframe tbody tr th:only-of-type {\n",
              "        vertical-align: middle;\n",
              "    }\n",
              "\n",
              "    .dataframe tbody tr th {\n",
              "        vertical-align: top;\n",
              "    }\n",
              "\n",
              "    .dataframe thead th {\n",
              "        text-align: right;\n",
              "    }\n",
              "</style>\n",
              "<table border=\"1\" class=\"dataframe\">\n",
              "  <thead>\n",
              "    <tr style=\"text-align: right;\">\n",
              "      <th></th>\n",
              "      <th>key</th>\n",
              "      <th>fare_amount</th>\n",
              "    </tr>\n",
              "  </thead>\n",
              "  <tbody>\n",
              "    <tr>\n",
              "      <th>0</th>\n",
              "      <td>08:24.0</td>\n",
              "      <td>11.35</td>\n",
              "    </tr>\n",
              "    <tr>\n",
              "      <th>1</th>\n",
              "      <td>08:24.0</td>\n",
              "      <td>11.35</td>\n",
              "    </tr>\n",
              "    <tr>\n",
              "      <th>2</th>\n",
              "      <td>53:44.0</td>\n",
              "      <td>11.35</td>\n",
              "    </tr>\n",
              "    <tr>\n",
              "      <th>3</th>\n",
              "      <td>12:12.0</td>\n",
              "      <td>11.35</td>\n",
              "    </tr>\n",
              "    <tr>\n",
              "      <th>4</th>\n",
              "      <td>12:12.0</td>\n",
              "      <td>11.35</td>\n",
              "    </tr>\n",
              "  </tbody>\n",
              "</table>\n",
              "</div>"
            ],
            "text/plain": [
              "       key  fare_amount\n",
              "0  08:24.0        11.35\n",
              "1  08:24.0        11.35\n",
              "2  53:44.0        11.35\n",
              "3  12:12.0        11.35\n",
              "4  12:12.0        11.35"
            ]
          },
          "metadata": {},
          "execution_count": 19
        }
      ],
      "source": [
        "sub.head()"
      ]
    },
    {
      "cell_type": "code",
      "execution_count": 19,
      "metadata": {
        "id": "MBX-lXQ_Jwco"
      },
      "outputs": [],
      "source": [
        ""
      ]
    },
    {
      "cell_type": "markdown",
      "metadata": {
        "id": "V9Cpxdf4LGlV"
      },
      "source": [
        ""
      ]
    },
    {
      "cell_type": "code",
      "execution_count": 20,
      "metadata": {
        "id": "LuE4Xbm3LM8q",
        "colab": {
          "base_uri": "https://localhost:8080/"
        },
        "outputId": "e73e24d3-e768-44b7-e570-6bc6a20a6a1b"
      },
      "outputs": [
        {
          "output_type": "execute_result",
          "data": {
            "text/plain": [
              "<bound method NDFrame.head of            key  fare_amount  ... dropoff_latitude  passenger_count\n",
              "0      36:22.0          4.0  ...        40.755482                1\n",
              "1      22:00.0          8.0  ...         0.000000                2\n",
              "2      07:00.0          8.9  ...        40.766964                3\n",
              "3      33:00.0          6.9  ...        40.745747                1\n",
              "4      26:54.0          7.0  ...        40.768604                1\n",
              "...        ...          ...  ...              ...              ...\n",
              "10440  38:35.0         10.9  ...        40.774017                1\n",
              "10441  58:32.0          5.3  ...        40.748154                3\n",
              "10442  32:59.0         26.5  ...        40.643951                1\n",
              "10443  34:00.0          8.1  ...        40.706402                1\n",
              "10444  26:40.0         38.5  ...        40.640747                1\n",
              "\n",
              "[10445 rows x 8 columns]>"
            ]
          },
          "metadata": {},
          "execution_count": 20
        }
      ],
      "source": [
        "#load the training set\n",
        "train.head"
      ]
    },
    {
      "cell_type": "code",
      "execution_count": 20,
      "metadata": {
        "id": "_1s5lY98MY5K"
      },
      "outputs": [],
      "source": [
        ""
      ]
    },
    {
      "cell_type": "code",
      "execution_count": 21,
      "metadata": {
        "id": "pGqIImccNGqP",
        "colab": {
          "base_uri": "https://localhost:8080/"
        },
        "outputId": "36807ea7-c655-4748-9271-742d858707d0"
      },
      "outputs": [
        {
          "output_type": "execute_result",
          "data": {
            "text/plain": [
              "['fare_amount',\n",
              " '\\tpickup_datetime',\n",
              " '\\tpickup_longitude',\n",
              " '\\tpickup_latitude',\n",
              " '\\tdropoff_longitude',\n",
              " ' dropoff_latitude',\n",
              " '\\tpassenger_count']"
            ]
          },
          "metadata": {},
          "execution_count": 21
        }
      ],
      "source": [
        "selected_col"
      ]
    },
    {
      "cell_type": "code",
      "execution_count": 22,
      "metadata": {
        "id": "vmw0qvRUNNr_",
        "colab": {
          "base_uri": "https://localhost:8080/"
        },
        "outputId": "039753ea-0708-48a8-89e9-a989be9b56dd"
      },
      "outputs": [
        {
          "output_type": "stream",
          "name": "stdout",
          "text": [
            "<class 'pandas.core.frame.DataFrame'>\n",
            "RangeIndex: 10445 entries, 0 to 10444\n",
            "Data columns (total 8 columns):\n",
            " #   Column             Non-Null Count  Dtype              \n",
            "---  ------             --------------  -----              \n",
            " 0   key                10445 non-null  object             \n",
            " 1   fare_amount        10445 non-null  float32            \n",
            " 2   pickup_datetime    10445 non-null  datetime64[ns, UTC]\n",
            " 3   pickup_longitude   10445 non-null  float32            \n",
            " 4   pickup_latitude    10445 non-null  float32            \n",
            " 5   dropoff_longitude  10445 non-null  float32            \n",
            " 6   dropoff_latitude   10445 non-null  float32            \n",
            " 7   passenger_count    10445 non-null  int32              \n",
            "dtypes: datetime64[ns, UTC](1), float32(5), int32(1), object(1)\n",
            "memory usage: 408.1+ KB\n"
          ]
        }
      ],
      "source": [
        "train.info()"
      ]
    },
    {
      "cell_type": "code",
      "source": [
        "test.info()"
      ],
      "metadata": {
        "colab": {
          "base_uri": "https://localhost:8080/"
        },
        "id": "uNO1h1oRdj2j",
        "outputId": "23e024d7-8ed2-4c21-9133-2f56baecfdc6"
      },
      "execution_count": 23,
      "outputs": [
        {
          "output_type": "stream",
          "name": "stdout",
          "text": [
            "<class 'pandas.core.frame.DataFrame'>\n",
            "RangeIndex: 9914 entries, 0 to 9913\n",
            "Data columns (total 7 columns):\n",
            " #   Column             Non-Null Count  Dtype              \n",
            "---  ------             --------------  -----              \n",
            " 0   key                9914 non-null   object             \n",
            " 1   pickup_datetime    9914 non-null   datetime64[ns, UTC]\n",
            " 2   pickup_longitude   9914 non-null   float64            \n",
            " 3   pickup_latitude    9914 non-null   float64            \n",
            " 4   dropoff_longitude  9914 non-null   float64            \n",
            " 5   dropoff_latitude   9914 non-null   float64            \n",
            " 6   passenger_count    9914 non-null   int64              \n",
            "dtypes: datetime64[ns, UTC](1), float64(4), int64(1), object(1)\n",
            "memory usage: 542.3+ KB\n"
          ]
        }
      ]
    },
    {
      "cell_type": "code",
      "source": [
        "train.describe()"
      ],
      "metadata": {
        "colab": {
          "base_uri": "https://localhost:8080/",
          "height": 300
        },
        "id": "81zRRXx9ds-M",
        "outputId": "14dd9f21-debd-4338-9d04-4e373df7eaeb"
      },
      "execution_count": 24,
      "outputs": [
        {
          "output_type": "execute_result",
          "data": {
            "text/html": [
              "<div>\n",
              "<style scoped>\n",
              "    .dataframe tbody tr th:only-of-type {\n",
              "        vertical-align: middle;\n",
              "    }\n",
              "\n",
              "    .dataframe tbody tr th {\n",
              "        vertical-align: top;\n",
              "    }\n",
              "\n",
              "    .dataframe thead th {\n",
              "        text-align: right;\n",
              "    }\n",
              "</style>\n",
              "<table border=\"1\" class=\"dataframe\">\n",
              "  <thead>\n",
              "    <tr style=\"text-align: right;\">\n",
              "      <th></th>\n",
              "      <th>fare_amount</th>\n",
              "      <th>pickup_longitude</th>\n",
              "      <th>pickup_latitude</th>\n",
              "      <th>dropoff_longitude</th>\n",
              "      <th>dropoff_latitude</th>\n",
              "      <th>passenger_count</th>\n",
              "    </tr>\n",
              "  </thead>\n",
              "  <tbody>\n",
              "    <tr>\n",
              "      <th>count</th>\n",
              "      <td>10445.000000</td>\n",
              "      <td>10445.000000</td>\n",
              "      <td>10445.000000</td>\n",
              "      <td>10445.000000</td>\n",
              "      <td>10445.000000</td>\n",
              "      <td>10445.000000</td>\n",
              "    </tr>\n",
              "    <tr>\n",
              "      <th>mean</th>\n",
              "      <td>11.286703</td>\n",
              "      <td>-72.562744</td>\n",
              "      <td>39.946926</td>\n",
              "      <td>-72.486305</td>\n",
              "      <td>39.908047</td>\n",
              "      <td>1.696218</td>\n",
              "    </tr>\n",
              "    <tr>\n",
              "      <th>std</th>\n",
              "      <td>9.606277</td>\n",
              "      <td>10.242438</td>\n",
              "      <td>6.015411</td>\n",
              "      <td>10.524745</td>\n",
              "      <td>6.142307</td>\n",
              "      <td>1.315258</td>\n",
              "    </tr>\n",
              "    <tr>\n",
              "      <th>min</th>\n",
              "      <td>-2.500000</td>\n",
              "      <td>-77.902481</td>\n",
              "      <td>-74.006432</td>\n",
              "      <td>-77.816635</td>\n",
              "      <td>-74.007561</td>\n",
              "      <td>0.000000</td>\n",
              "    </tr>\n",
              "    <tr>\n",
              "      <th>25%</th>\n",
              "      <td>6.000000</td>\n",
              "      <td>-73.992264</td>\n",
              "      <td>40.735023</td>\n",
              "      <td>-73.991425</td>\n",
              "      <td>40.734192</td>\n",
              "      <td>1.000000</td>\n",
              "    </tr>\n",
              "    <tr>\n",
              "      <th>50%</th>\n",
              "      <td>8.500000</td>\n",
              "      <td>-73.981979</td>\n",
              "      <td>40.752464</td>\n",
              "      <td>-73.980057</td>\n",
              "      <td>40.752861</td>\n",
              "      <td>1.000000</td>\n",
              "    </tr>\n",
              "    <tr>\n",
              "      <th>75%</th>\n",
              "      <td>12.500000</td>\n",
              "      <td>-73.967316</td>\n",
              "      <td>40.766682</td>\n",
              "      <td>-73.963394</td>\n",
              "      <td>40.768147</td>\n",
              "      <td>2.000000</td>\n",
              "    </tr>\n",
              "    <tr>\n",
              "      <th>max</th>\n",
              "      <td>201.000000</td>\n",
              "      <td>40.753319</td>\n",
              "      <td>41.366138</td>\n",
              "      <td>45.581619</td>\n",
              "      <td>41.366138</td>\n",
              "      <td>6.000000</td>\n",
              "    </tr>\n",
              "  </tbody>\n",
              "</table>\n",
              "</div>"
            ],
            "text/plain": [
              "        fare_amount  pickup_longitude  ...  dropoff_latitude  passenger_count\n",
              "count  10445.000000      10445.000000  ...      10445.000000     10445.000000\n",
              "mean      11.286703        -72.562744  ...         39.908047         1.696218\n",
              "std        9.606277         10.242438  ...          6.142307         1.315258\n",
              "min       -2.500000        -77.902481  ...        -74.007561         0.000000\n",
              "25%        6.000000        -73.992264  ...         40.734192         1.000000\n",
              "50%        8.500000        -73.981979  ...         40.752861         1.000000\n",
              "75%       12.500000        -73.967316  ...         40.768147         2.000000\n",
              "max      201.000000         40.753319  ...         41.366138         6.000000\n",
              "\n",
              "[8 rows x 6 columns]"
            ]
          },
          "metadata": {},
          "execution_count": 24
        }
      ]
    },
    {
      "cell_type": "code",
      "source": [
        "train['pickup_datetime'].min(), train['pickup_datetime'].max()"
      ],
      "metadata": {
        "colab": {
          "base_uri": "https://localhost:8080/"
        },
        "id": "sWAupW7Cd3WT",
        "outputId": "2bd171a2-bcb7-4a85-fe64-7fe58d90e006"
      },
      "execution_count": 25,
      "outputs": [
        {
          "output_type": "execute_result",
          "data": {
            "text/plain": [
              "(Timestamp('2009-01-01 16:21:00+0000', tz='UTC'),\n",
              " Timestamp('2015-06-30 23:22:46+0000', tz='UTC'))"
            ]
          },
          "metadata": {},
          "execution_count": 25
        }
      ]
    },
    {
      "cell_type": "code",
      "source": [
        "test['pickup_datetime'].min(), test['pickup_datetime'].max()"
      ],
      "metadata": {
        "colab": {
          "base_uri": "https://localhost:8080/"
        },
        "id": "tj7m-3oEefKr",
        "outputId": "aab3c4d0-89c1-4514-e700-c727a72415b9"
      },
      "execution_count": 26,
      "outputs": [
        {
          "output_type": "execute_result",
          "data": {
            "text/plain": [
              "(Timestamp('2009-01-01 11:04:24+0000', tz='UTC'),\n",
              " Timestamp('2015-06-30 20:03:50+0000', tz='UTC'))"
            ]
          },
          "metadata": {},
          "execution_count": 26
        }
      ]
    },
    {
      "cell_type": "code",
      "source": [
        "from sklearn.model_selection import train_test_split"
      ],
      "metadata": {
        "id": "5UeKBSuHfDIz"
      },
      "execution_count": 27,
      "outputs": []
    },
    {
      "cell_type": "code",
      "source": [
        "train_df, val = train_test_split(train, test_size=0.2, random_state=42)"
      ],
      "metadata": {
        "id": "kYEYoY1mgYBC"
      },
      "execution_count": 28,
      "outputs": []
    },
    {
      "cell_type": "code",
      "source": [
        "len(train_df), len(val)"
      ],
      "metadata": {
        "colab": {
          "base_uri": "https://localhost:8080/"
        },
        "id": "XXUY0QWCgswz",
        "outputId": "65885955-bd78-44af-c32f-a210411e1204"
      },
      "execution_count": 29,
      "outputs": [
        {
          "output_type": "execute_result",
          "data": {
            "text/plain": [
              "(8356, 2089)"
            ]
          },
          "metadata": {},
          "execution_count": 29
        }
      ]
    },
    {
      "cell_type": "code",
      "source": [
        "#fill or remove missing value\n",
        "\n",
        "#train_df = train_df.dropna()\n",
        "#val = val.dropna()"
      ],
      "metadata": {
        "id": "YB-JgwK7gzwx"
      },
      "execution_count": 30,
      "outputs": []
    },
    {
      "cell_type": "code",
      "source": [
        "train_df.columns"
      ],
      "metadata": {
        "colab": {
          "base_uri": "https://localhost:8080/"
        },
        "id": "U1bu-vdDhnwd",
        "outputId": "ec966493-c4b9-4488-f1c5-520165d50101"
      },
      "execution_count": 31,
      "outputs": [
        {
          "output_type": "execute_result",
          "data": {
            "text/plain": [
              "Index(['key', 'fare_amount', 'pickup_datetime', 'pickup_longitude',\n",
              "       'pickup_latitude', 'dropoff_longitude', 'dropoff_latitude',\n",
              "       'passenger_count'],\n",
              "      dtype='object')"
            ]
          },
          "metadata": {},
          "execution_count": 31
        }
      ]
    },
    {
      "cell_type": "code",
      "source": [
        "input_cols = ['pickup_longitude','pickup_latitude', 'dropoff_longitude', 'dropoff_latitude','passenger_count']"
      ],
      "metadata": {
        "id": "6zdYqPr8ih7W"
      },
      "execution_count": 32,
      "outputs": []
    },
    {
      "cell_type": "code",
      "source": [
        "target_col = 'fare_amount'"
      ],
      "metadata": {
        "id": "eQ48Mky8iiKP"
      },
      "execution_count": 33,
      "outputs": []
    },
    {
      "cell_type": "code",
      "source": [
        "train_inputs = train_df[input_cols]"
      ],
      "metadata": {
        "id": "6HNh0k9Qha1c"
      },
      "execution_count": 34,
      "outputs": []
    },
    {
      "cell_type": "code",
      "source": [
        "train_targets = train_df[target_col]"
      ],
      "metadata": {
        "id": "pBqYXVBiiZz4"
      },
      "execution_count": 35,
      "outputs": []
    },
    {
      "cell_type": "code",
      "source": [
        "train_inputs"
      ],
      "metadata": {
        "colab": {
          "base_uri": "https://localhost:8080/",
          "height": 423
        },
        "id": "Vklu9BTIjNCR",
        "outputId": "b68d6f27-6aa5-491e-f6b1-5f87ff08299d"
      },
      "execution_count": 36,
      "outputs": [
        {
          "output_type": "execute_result",
          "data": {
            "text/html": [
              "<div>\n",
              "<style scoped>\n",
              "    .dataframe tbody tr th:only-of-type {\n",
              "        vertical-align: middle;\n",
              "    }\n",
              "\n",
              "    .dataframe tbody tr th {\n",
              "        vertical-align: top;\n",
              "    }\n",
              "\n",
              "    .dataframe thead th {\n",
              "        text-align: right;\n",
              "    }\n",
              "</style>\n",
              "<table border=\"1\" class=\"dataframe\">\n",
              "  <thead>\n",
              "    <tr style=\"text-align: right;\">\n",
              "      <th></th>\n",
              "      <th>pickup_longitude</th>\n",
              "      <th>pickup_latitude</th>\n",
              "      <th>dropoff_longitude</th>\n",
              "      <th>dropoff_latitude</th>\n",
              "      <th>passenger_count</th>\n",
              "    </tr>\n",
              "  </thead>\n",
              "  <tbody>\n",
              "    <tr>\n",
              "      <th>9364</th>\n",
              "      <td>0.000000</td>\n",
              "      <td>0.000000</td>\n",
              "      <td>0.000000</td>\n",
              "      <td>0.000000</td>\n",
              "      <td>5</td>\n",
              "    </tr>\n",
              "    <tr>\n",
              "      <th>8399</th>\n",
              "      <td>-73.919106</td>\n",
              "      <td>40.758781</td>\n",
              "      <td>-73.962616</td>\n",
              "      <td>40.802471</td>\n",
              "      <td>1</td>\n",
              "    </tr>\n",
              "    <tr>\n",
              "      <th>9774</th>\n",
              "      <td>-73.990700</td>\n",
              "      <td>40.756359</td>\n",
              "      <td>-73.988258</td>\n",
              "      <td>40.769150</td>\n",
              "      <td>2</td>\n",
              "    </tr>\n",
              "    <tr>\n",
              "      <th>5478</th>\n",
              "      <td>-73.991493</td>\n",
              "      <td>40.749935</td>\n",
              "      <td>-73.981514</td>\n",
              "      <td>40.759190</td>\n",
              "      <td>2</td>\n",
              "    </tr>\n",
              "    <tr>\n",
              "      <th>8468</th>\n",
              "      <td>-74.000542</td>\n",
              "      <td>40.742409</td>\n",
              "      <td>-73.949409</td>\n",
              "      <td>40.770824</td>\n",
              "      <td>3</td>\n",
              "    </tr>\n",
              "    <tr>\n",
              "      <th>...</th>\n",
              "      <td>...</td>\n",
              "      <td>...</td>\n",
              "      <td>...</td>\n",
              "      <td>...</td>\n",
              "      <td>...</td>\n",
              "    </tr>\n",
              "    <tr>\n",
              "      <th>5734</th>\n",
              "      <td>-73.982391</td>\n",
              "      <td>40.755711</td>\n",
              "      <td>-73.979370</td>\n",
              "      <td>40.752682</td>\n",
              "      <td>1</td>\n",
              "    </tr>\n",
              "    <tr>\n",
              "      <th>5191</th>\n",
              "      <td>-73.954697</td>\n",
              "      <td>40.783508</td>\n",
              "      <td>-73.960495</td>\n",
              "      <td>40.772987</td>\n",
              "      <td>1</td>\n",
              "    </tr>\n",
              "    <tr>\n",
              "      <th>5390</th>\n",
              "      <td>-73.973526</td>\n",
              "      <td>40.747948</td>\n",
              "      <td>-73.985573</td>\n",
              "      <td>40.722885</td>\n",
              "      <td>2</td>\n",
              "    </tr>\n",
              "    <tr>\n",
              "      <th>860</th>\n",
              "      <td>-73.995575</td>\n",
              "      <td>40.717014</td>\n",
              "      <td>-73.988899</td>\n",
              "      <td>40.731438</td>\n",
              "      <td>2</td>\n",
              "    </tr>\n",
              "    <tr>\n",
              "      <th>7270</th>\n",
              "      <td>0.000000</td>\n",
              "      <td>0.000000</td>\n",
              "      <td>0.000000</td>\n",
              "      <td>0.000000</td>\n",
              "      <td>1</td>\n",
              "    </tr>\n",
              "  </tbody>\n",
              "</table>\n",
              "<p>8356 rows × 5 columns</p>\n",
              "</div>"
            ],
            "text/plain": [
              "      pickup_longitude  pickup_latitude  ...  dropoff_latitude  passenger_count\n",
              "9364          0.000000         0.000000  ...          0.000000                5\n",
              "8399        -73.919106        40.758781  ...         40.802471                1\n",
              "9774        -73.990700        40.756359  ...         40.769150                2\n",
              "5478        -73.991493        40.749935  ...         40.759190                2\n",
              "8468        -74.000542        40.742409  ...         40.770824                3\n",
              "...                ...              ...  ...               ...              ...\n",
              "5734        -73.982391        40.755711  ...         40.752682                1\n",
              "5191        -73.954697        40.783508  ...         40.772987                1\n",
              "5390        -73.973526        40.747948  ...         40.722885                2\n",
              "860         -73.995575        40.717014  ...         40.731438                2\n",
              "7270          0.000000         0.000000  ...          0.000000                1\n",
              "\n",
              "[8356 rows x 5 columns]"
            ]
          },
          "metadata": {},
          "execution_count": 36
        }
      ]
    },
    {
      "cell_type": "code",
      "source": [
        "train_targets"
      ],
      "metadata": {
        "colab": {
          "base_uri": "https://localhost:8080/"
        },
        "id": "3G1zk3NBjSlc",
        "outputId": "fa877162-d4b2-4fc3-dfab-078db05efd26"
      },
      "execution_count": 37,
      "outputs": [
        {
          "output_type": "execute_result",
          "data": {
            "text/plain": [
              "9364     5.3\n",
              "8399    24.9\n",
              "9774     6.1\n",
              "5478     7.7\n",
              "8468    16.0\n",
              "        ... \n",
              "5734     4.5\n",
              "5191     7.5\n",
              "5390     8.9\n",
              "860      6.0\n",
              "7270     6.5\n",
              "Name: fare_amount, Length: 8356, dtype: float32"
            ]
          },
          "metadata": {},
          "execution_count": 37
        }
      ]
    },
    {
      "cell_type": "code",
      "source": [
        "val_inputs = val[input_cols]"
      ],
      "metadata": {
        "id": "799RvMYujWu5"
      },
      "execution_count": 38,
      "outputs": []
    },
    {
      "cell_type": "code",
      "source": [
        "val_targets = val[target_col]"
      ],
      "metadata": {
        "id": "xjfVCDyPjesD"
      },
      "execution_count": 39,
      "outputs": []
    },
    {
      "cell_type": "code",
      "source": [
        "val_inputs"
      ],
      "metadata": {
        "colab": {
          "base_uri": "https://localhost:8080/",
          "height": 423
        },
        "id": "EsgYs1ZwjwG0",
        "outputId": "cae87e48-0932-4fcc-c8ba-9656704cd60c"
      },
      "execution_count": 40,
      "outputs": [
        {
          "output_type": "execute_result",
          "data": {
            "text/html": [
              "<div>\n",
              "<style scoped>\n",
              "    .dataframe tbody tr th:only-of-type {\n",
              "        vertical-align: middle;\n",
              "    }\n",
              "\n",
              "    .dataframe tbody tr th {\n",
              "        vertical-align: top;\n",
              "    }\n",
              "\n",
              "    .dataframe thead th {\n",
              "        text-align: right;\n",
              "    }\n",
              "</style>\n",
              "<table border=\"1\" class=\"dataframe\">\n",
              "  <thead>\n",
              "    <tr style=\"text-align: right;\">\n",
              "      <th></th>\n",
              "      <th>pickup_longitude</th>\n",
              "      <th>pickup_latitude</th>\n",
              "      <th>dropoff_longitude</th>\n",
              "      <th>dropoff_latitude</th>\n",
              "      <th>passenger_count</th>\n",
              "    </tr>\n",
              "  </thead>\n",
              "  <tbody>\n",
              "    <tr>\n",
              "      <th>3037</th>\n",
              "      <td>-73.954384</td>\n",
              "      <td>40.790234</td>\n",
              "      <td>-73.978416</td>\n",
              "      <td>40.772942</td>\n",
              "      <td>1</td>\n",
              "    </tr>\n",
              "    <tr>\n",
              "      <th>33</th>\n",
              "      <td>-73.994659</td>\n",
              "      <td>40.740154</td>\n",
              "      <td>-73.970215</td>\n",
              "      <td>40.784012</td>\n",
              "      <td>1</td>\n",
              "    </tr>\n",
              "    <tr>\n",
              "      <th>2664</th>\n",
              "      <td>-73.990646</td>\n",
              "      <td>40.761024</td>\n",
              "      <td>-73.994881</td>\n",
              "      <td>40.750130</td>\n",
              "      <td>5</td>\n",
              "    </tr>\n",
              "    <tr>\n",
              "      <th>4447</th>\n",
              "      <td>-73.972656</td>\n",
              "      <td>40.759384</td>\n",
              "      <td>-73.993011</td>\n",
              "      <td>40.737431</td>\n",
              "      <td>1</td>\n",
              "    </tr>\n",
              "    <tr>\n",
              "      <th>35</th>\n",
              "      <td>-74.006134</td>\n",
              "      <td>40.740398</td>\n",
              "      <td>-74.001472</td>\n",
              "      <td>40.761421</td>\n",
              "      <td>1</td>\n",
              "    </tr>\n",
              "    <tr>\n",
              "      <th>...</th>\n",
              "      <td>...</td>\n",
              "      <td>...</td>\n",
              "      <td>...</td>\n",
              "      <td>...</td>\n",
              "      <td>...</td>\n",
              "    </tr>\n",
              "    <tr>\n",
              "      <th>9039</th>\n",
              "      <td>-73.988472</td>\n",
              "      <td>40.720177</td>\n",
              "      <td>-73.987007</td>\n",
              "      <td>40.745312</td>\n",
              "      <td>1</td>\n",
              "    </tr>\n",
              "    <tr>\n",
              "      <th>9595</th>\n",
              "      <td>-73.885262</td>\n",
              "      <td>40.773052</td>\n",
              "      <td>-73.975250</td>\n",
              "      <td>40.751717</td>\n",
              "      <td>1</td>\n",
              "    </tr>\n",
              "    <tr>\n",
              "      <th>511</th>\n",
              "      <td>-73.973473</td>\n",
              "      <td>40.764328</td>\n",
              "      <td>-73.989433</td>\n",
              "      <td>40.771416</td>\n",
              "      <td>1</td>\n",
              "    </tr>\n",
              "    <tr>\n",
              "      <th>9254</th>\n",
              "      <td>-74.002945</td>\n",
              "      <td>40.727978</td>\n",
              "      <td>-73.965683</td>\n",
              "      <td>40.763645</td>\n",
              "      <td>2</td>\n",
              "    </tr>\n",
              "    <tr>\n",
              "      <th>9456</th>\n",
              "      <td>-73.993340</td>\n",
              "      <td>40.755405</td>\n",
              "      <td>-74.000488</td>\n",
              "      <td>40.735458</td>\n",
              "      <td>1</td>\n",
              "    </tr>\n",
              "  </tbody>\n",
              "</table>\n",
              "<p>2089 rows × 5 columns</p>\n",
              "</div>"
            ],
            "text/plain": [
              "      pickup_longitude  pickup_latitude  ...  dropoff_latitude  passenger_count\n",
              "3037        -73.954384        40.790234  ...         40.772942                1\n",
              "33          -73.994659        40.740154  ...         40.784012                1\n",
              "2664        -73.990646        40.761024  ...         40.750130                5\n",
              "4447        -73.972656        40.759384  ...         40.737431                1\n",
              "35          -74.006134        40.740398  ...         40.761421                1\n",
              "...                ...              ...  ...               ...              ...\n",
              "9039        -73.988472        40.720177  ...         40.745312                1\n",
              "9595        -73.885262        40.773052  ...         40.751717                1\n",
              "511         -73.973473        40.764328  ...         40.771416                1\n",
              "9254        -74.002945        40.727978  ...         40.763645                2\n",
              "9456        -73.993340        40.755405  ...         40.735458                1\n",
              "\n",
              "[2089 rows x 5 columns]"
            ]
          },
          "metadata": {},
          "execution_count": 40
        }
      ]
    },
    {
      "cell_type": "code",
      "source": [
        "val_targets"
      ],
      "metadata": {
        "colab": {
          "base_uri": "https://localhost:8080/"
        },
        "id": "azBLJPVBj7Fv",
        "outputId": "42a622de-4232-405d-adbb-fb72ea13dd51"
      },
      "execution_count": 41,
      "outputs": [
        {
          "output_type": "execute_result",
          "data": {
            "text/plain": [
              "3037    11.500000\n",
              "33      11.300000\n",
              "2664     5.700000\n",
              "4447     8.100000\n",
              "35       8.500000\n",
              "          ...    \n",
              "9039    14.500000\n",
              "9595    39.540001\n",
              "511      6.000000\n",
              "9254    16.500000\n",
              "9456    11.000000\n",
              "Name: fare_amount, Length: 2089, dtype: float32"
            ]
          },
          "metadata": {},
          "execution_count": 41
        }
      ]
    },
    {
      "cell_type": "code",
      "source": [
        "test_inputs = test[input_cols]"
      ],
      "metadata": {
        "id": "4CiXkS2vj9Po"
      },
      "execution_count": 42,
      "outputs": []
    },
    {
      "cell_type": "code",
      "source": [
        "test_inputs"
      ],
      "metadata": {
        "colab": {
          "base_uri": "https://localhost:8080/",
          "height": 423
        },
        "id": "7ni13ogOkabl",
        "outputId": "bfb4f2c6-4dba-44e9-b8aa-f4d48330557f"
      },
      "execution_count": 43,
      "outputs": [
        {
          "output_type": "execute_result",
          "data": {
            "text/html": [
              "<div>\n",
              "<style scoped>\n",
              "    .dataframe tbody tr th:only-of-type {\n",
              "        vertical-align: middle;\n",
              "    }\n",
              "\n",
              "    .dataframe tbody tr th {\n",
              "        vertical-align: top;\n",
              "    }\n",
              "\n",
              "    .dataframe thead th {\n",
              "        text-align: right;\n",
              "    }\n",
              "</style>\n",
              "<table border=\"1\" class=\"dataframe\">\n",
              "  <thead>\n",
              "    <tr style=\"text-align: right;\">\n",
              "      <th></th>\n",
              "      <th>pickup_longitude</th>\n",
              "      <th>pickup_latitude</th>\n",
              "      <th>dropoff_longitude</th>\n",
              "      <th>dropoff_latitude</th>\n",
              "      <th>passenger_count</th>\n",
              "    </tr>\n",
              "  </thead>\n",
              "  <tbody>\n",
              "    <tr>\n",
              "      <th>0</th>\n",
              "      <td>-73.973320</td>\n",
              "      <td>40.763805</td>\n",
              "      <td>-73.981430</td>\n",
              "      <td>40.743835</td>\n",
              "      <td>1</td>\n",
              "    </tr>\n",
              "    <tr>\n",
              "      <th>1</th>\n",
              "      <td>-73.986862</td>\n",
              "      <td>40.719383</td>\n",
              "      <td>-73.998886</td>\n",
              "      <td>40.739201</td>\n",
              "      <td>1</td>\n",
              "    </tr>\n",
              "    <tr>\n",
              "      <th>2</th>\n",
              "      <td>-73.982524</td>\n",
              "      <td>40.751260</td>\n",
              "      <td>-73.979654</td>\n",
              "      <td>40.746139</td>\n",
              "      <td>1</td>\n",
              "    </tr>\n",
              "    <tr>\n",
              "      <th>3</th>\n",
              "      <td>-73.981160</td>\n",
              "      <td>40.767807</td>\n",
              "      <td>-73.990448</td>\n",
              "      <td>40.751635</td>\n",
              "      <td>1</td>\n",
              "    </tr>\n",
              "    <tr>\n",
              "      <th>4</th>\n",
              "      <td>-73.966046</td>\n",
              "      <td>40.789775</td>\n",
              "      <td>-73.988565</td>\n",
              "      <td>40.744427</td>\n",
              "      <td>1</td>\n",
              "    </tr>\n",
              "    <tr>\n",
              "      <th>...</th>\n",
              "      <td>...</td>\n",
              "      <td>...</td>\n",
              "      <td>...</td>\n",
              "      <td>...</td>\n",
              "      <td>...</td>\n",
              "    </tr>\n",
              "    <tr>\n",
              "      <th>9909</th>\n",
              "      <td>-73.968124</td>\n",
              "      <td>40.796997</td>\n",
              "      <td>-73.955643</td>\n",
              "      <td>40.780388</td>\n",
              "      <td>6</td>\n",
              "    </tr>\n",
              "    <tr>\n",
              "      <th>9910</th>\n",
              "      <td>-73.945511</td>\n",
              "      <td>40.803600</td>\n",
              "      <td>-73.960213</td>\n",
              "      <td>40.776371</td>\n",
              "      <td>6</td>\n",
              "    </tr>\n",
              "    <tr>\n",
              "      <th>9911</th>\n",
              "      <td>-73.991600</td>\n",
              "      <td>40.726608</td>\n",
              "      <td>-73.789742</td>\n",
              "      <td>40.647011</td>\n",
              "      <td>6</td>\n",
              "    </tr>\n",
              "    <tr>\n",
              "      <th>9912</th>\n",
              "      <td>-73.985573</td>\n",
              "      <td>40.735432</td>\n",
              "      <td>-73.939178</td>\n",
              "      <td>40.801731</td>\n",
              "      <td>6</td>\n",
              "    </tr>\n",
              "    <tr>\n",
              "      <th>9913</th>\n",
              "      <td>-73.988022</td>\n",
              "      <td>40.754070</td>\n",
              "      <td>-74.000282</td>\n",
              "      <td>40.759220</td>\n",
              "      <td>6</td>\n",
              "    </tr>\n",
              "  </tbody>\n",
              "</table>\n",
              "<p>9914 rows × 5 columns</p>\n",
              "</div>"
            ],
            "text/plain": [
              "      pickup_longitude  pickup_latitude  ...  dropoff_latitude  passenger_count\n",
              "0           -73.973320        40.763805  ...         40.743835                1\n",
              "1           -73.986862        40.719383  ...         40.739201                1\n",
              "2           -73.982524        40.751260  ...         40.746139                1\n",
              "3           -73.981160        40.767807  ...         40.751635                1\n",
              "4           -73.966046        40.789775  ...         40.744427                1\n",
              "...                ...              ...  ...               ...              ...\n",
              "9909        -73.968124        40.796997  ...         40.780388                6\n",
              "9910        -73.945511        40.803600  ...         40.776371                6\n",
              "9911        -73.991600        40.726608  ...         40.647011                6\n",
              "9912        -73.985573        40.735432  ...         40.801731                6\n",
              "9913        -73.988022        40.754070  ...         40.759220                6\n",
              "\n",
              "[9914 rows x 5 columns]"
            ]
          },
          "metadata": {},
          "execution_count": 43
        }
      ]
    },
    {
      "cell_type": "code",
      "source": [
        "class MeanRegressor:\n",
        "  def fit(self, inputs, targets):\n",
        "    self.mean = targets.mean()\n",
        "\n",
        "  def predict(self, inputs):\n",
        "    return np.full(inputs.shape[0], self.mean)"
      ],
      "metadata": {
        "id": "xlXgBM1_kgvQ"
      },
      "execution_count": 44,
      "outputs": []
    },
    {
      "cell_type": "code",
      "source": [
        "np.full(10, 3)"
      ],
      "metadata": {
        "colab": {
          "base_uri": "https://localhost:8080/"
        },
        "id": "9_OVKkWUlaHu",
        "outputId": "186aafdb-052c-4d76-9af4-b98e44bda7fb"
      },
      "execution_count": 45,
      "outputs": [
        {
          "output_type": "execute_result",
          "data": {
            "text/plain": [
              "array([3, 3, 3, 3, 3, 3, 3, 3, 3, 3])"
            ]
          },
          "metadata": {},
          "execution_count": 45
        }
      ]
    },
    {
      "cell_type": "code",
      "source": [
        "mean_model = MeanRegressor()"
      ],
      "metadata": {
        "id": "IC4Q47_Tld4X"
      },
      "execution_count": 46,
      "outputs": []
    },
    {
      "cell_type": "code",
      "source": [
        "mean_model.fit(train_inputs, train_targets)"
      ],
      "metadata": {
        "id": "oh29URsXl6o1"
      },
      "execution_count": 47,
      "outputs": []
    },
    {
      "cell_type": "code",
      "source": [
        "mean_model.mean"
      ],
      "metadata": {
        "colab": {
          "base_uri": "https://localhost:8080/"
        },
        "id": "fiZdbSL-mHTE",
        "outputId": "34b3284b-5754-40a5-c21f-ff4843ffc7d8"
      },
      "execution_count": 48,
      "outputs": [
        {
          "output_type": "execute_result",
          "data": {
            "text/plain": [
              "11.170029640197754"
            ]
          },
          "metadata": {},
          "execution_count": 48
        }
      ]
    },
    {
      "cell_type": "code",
      "source": [
        "train_preds = mean_model.predict(train_inputs)"
      ],
      "metadata": {
        "id": "IATVFq7hmOgs"
      },
      "execution_count": 49,
      "outputs": []
    },
    {
      "cell_type": "code",
      "source": [
        "train_preds"
      ],
      "metadata": {
        "colab": {
          "base_uri": "https://localhost:8080/"
        },
        "id": "Bpt9BGTMmXqm",
        "outputId": "aab2b459-2761-4bca-ca91-6c992124f993"
      },
      "execution_count": 50,
      "outputs": [
        {
          "output_type": "execute_result",
          "data": {
            "text/plain": [
              "array([11.17002964, 11.17002964, 11.17002964, ..., 11.17002964,\n",
              "       11.17002964, 11.17002964])"
            ]
          },
          "metadata": {},
          "execution_count": 50
        }
      ]
    },
    {
      "cell_type": "code",
      "source": [
        "val_preds = mean_model.predict(val_inputs)"
      ],
      "metadata": {
        "id": "CxezOU8Gmg_F"
      },
      "execution_count": 51,
      "outputs": []
    },
    {
      "cell_type": "code",
      "source": [
        "val_preds"
      ],
      "metadata": {
        "colab": {
          "base_uri": "https://localhost:8080/"
        },
        "id": "2NRGgysemrTp",
        "outputId": "3a9a8e4a-0278-4bc7-faf0-ff8d67b39005"
      },
      "execution_count": 52,
      "outputs": [
        {
          "output_type": "execute_result",
          "data": {
            "text/plain": [
              "array([11.17002964, 11.17002964, 11.17002964, ..., 11.17002964,\n",
              "       11.17002964, 11.17002964])"
            ]
          },
          "metadata": {},
          "execution_count": 52
        }
      ]
    },
    {
      "cell_type": "code",
      "source": [
        "val_targets"
      ],
      "metadata": {
        "colab": {
          "base_uri": "https://localhost:8080/"
        },
        "id": "Qef56bUSmtTR",
        "outputId": "b43989bb-687a-4883-dd74-8b4073b960a5"
      },
      "execution_count": 53,
      "outputs": [
        {
          "output_type": "execute_result",
          "data": {
            "text/plain": [
              "3037    11.500000\n",
              "33      11.300000\n",
              "2664     5.700000\n",
              "4447     8.100000\n",
              "35       8.500000\n",
              "          ...    \n",
              "9039    14.500000\n",
              "9595    39.540001\n",
              "511      6.000000\n",
              "9254    16.500000\n",
              "9456    11.000000\n",
              "Name: fare_amount, Length: 2089, dtype: float32"
            ]
          },
          "metadata": {},
          "execution_count": 53
        }
      ]
    },
    {
      "cell_type": "code",
      "source": [
        "from sklearn.metrics import mean_squared_error"
      ],
      "metadata": {
        "id": "HGjJxCugm0wO"
      },
      "execution_count": 54,
      "outputs": []
    },
    {
      "cell_type": "code",
      "source": [
        "def rmse(targets, preds):\n",
        "  return rmse(targets, preds, squared = False)"
      ],
      "metadata": {
        "id": "OLqKNxVqm-eM"
      },
      "execution_count": 55,
      "outputs": []
    },
    {
      "cell_type": "code",
      "source": [
        "#train_rmse = rmse(train_targets, train_preds)"
      ],
      "metadata": {
        "id": "q0Eff67WnP3G"
      },
      "execution_count": 56,
      "outputs": []
    },
    {
      "cell_type": "code",
      "source": [
        "#train_rmse"
      ],
      "metadata": {
        "id": "V6L-P1tJnbvX"
      },
      "execution_count": 57,
      "outputs": []
    },
    {
      "cell_type": "code",
      "source": [
        "#val_rmse = rmse(val_targets, val_preds)\n",
        "#val_rmse"
      ],
      "metadata": {
        "id": "OQZzh-EfneL1"
      },
      "execution_count": 58,
      "outputs": []
    },
    {
      "cell_type": "code",
      "source": [
        "from sklearn.linear_model import LinearRegression"
      ],
      "metadata": {
        "id": "kaDakmbdn45H"
      },
      "execution_count": 59,
      "outputs": []
    },
    {
      "cell_type": "code",
      "source": [
        "linear_model = LinearRegression()"
      ],
      "metadata": {
        "id": "1Yhn5WqjoKGq"
      },
      "execution_count": 60,
      "outputs": []
    },
    {
      "cell_type": "code",
      "source": [
        "linear_model.fit(train_inputs, train_targets)"
      ],
      "metadata": {
        "colab": {
          "base_uri": "https://localhost:8080/"
        },
        "id": "u8jqtsvYoPn8",
        "outputId": "a7088831-ea6b-4638-ca10-e6da20bb52bf"
      },
      "execution_count": 61,
      "outputs": [
        {
          "output_type": "execute_result",
          "data": {
            "text/plain": [
              "LinearRegression(copy_X=True, fit_intercept=True, n_jobs=None, normalize=False)"
            ]
          },
          "metadata": {},
          "execution_count": 61
        }
      ]
    },
    {
      "cell_type": "code",
      "source": [
        "train_preds = linear_model.predict(train_inputs)"
      ],
      "metadata": {
        "id": "v_SWTKLuojEH"
      },
      "execution_count": 62,
      "outputs": []
    },
    {
      "cell_type": "code",
      "source": [
        "train_preds"
      ],
      "metadata": {
        "colab": {
          "base_uri": "https://localhost:8080/"
        },
        "id": "GUiAIaBfotYQ",
        "outputId": "dc4fb380-9bf9-4bf5-d1bc-94d24bcd3982"
      },
      "execution_count": 63,
      "outputs": [
        {
          "output_type": "execute_result",
          "data": {
            "text/plain": [
              "array([10.16943041, 11.16307632, 11.23854026, ..., 11.19305802,\n",
              "       11.24076535,  9.83055478])"
            ]
          },
          "metadata": {},
          "execution_count": 63
        }
      ]
    },
    {
      "cell_type": "code",
      "source": [
        "train_targets"
      ],
      "metadata": {
        "colab": {
          "base_uri": "https://localhost:8080/"
        },
        "id": "xRz5Jp4nowJb",
        "outputId": "487b5fcc-938d-4c59-d8e2-01b710c8daab"
      },
      "execution_count": 64,
      "outputs": [
        {
          "output_type": "execute_result",
          "data": {
            "text/plain": [
              "9364     5.3\n",
              "8399    24.9\n",
              "9774     6.1\n",
              "5478     7.7\n",
              "8468    16.0\n",
              "        ... \n",
              "5734     4.5\n",
              "5191     7.5\n",
              "5390     8.9\n",
              "860      6.0\n",
              "7270     6.5\n",
              "Name: fare_amount, Length: 8356, dtype: float32"
            ]
          },
          "metadata": {},
          "execution_count": 64
        }
      ]
    },
    {
      "cell_type": "code",
      "source": [
        "#rmse(train_targets, train_preds)"
      ],
      "metadata": {
        "id": "cCfuD1Pzo30I"
      },
      "execution_count": 66,
      "outputs": []
    },
    {
      "cell_type": "code",
      "source": [
        "val_preds = linear_model.predict(val_inputs)"
      ],
      "metadata": {
        "id": "kTWbjYzPpCIK"
      },
      "execution_count": 67,
      "outputs": []
    },
    {
      "cell_type": "code",
      "source": [
        "#rmse(val_targets, val_preds)"
      ],
      "metadata": {
        "id": "18AMMVbYpNub"
      },
      "execution_count": 68,
      "outputs": []
    },
    {
      "cell_type": "code",
      "source": [
        "test_inputs"
      ],
      "metadata": {
        "colab": {
          "base_uri": "https://localhost:8080/",
          "height": 423
        },
        "id": "QAhTd9p2pVkb",
        "outputId": "03bac504-cbec-4c3b-e71e-9646142857a6"
      },
      "execution_count": 69,
      "outputs": [
        {
          "output_type": "execute_result",
          "data": {
            "text/html": [
              "<div>\n",
              "<style scoped>\n",
              "    .dataframe tbody tr th:only-of-type {\n",
              "        vertical-align: middle;\n",
              "    }\n",
              "\n",
              "    .dataframe tbody tr th {\n",
              "        vertical-align: top;\n",
              "    }\n",
              "\n",
              "    .dataframe thead th {\n",
              "        text-align: right;\n",
              "    }\n",
              "</style>\n",
              "<table border=\"1\" class=\"dataframe\">\n",
              "  <thead>\n",
              "    <tr style=\"text-align: right;\">\n",
              "      <th></th>\n",
              "      <th>pickup_longitude</th>\n",
              "      <th>pickup_latitude</th>\n",
              "      <th>dropoff_longitude</th>\n",
              "      <th>dropoff_latitude</th>\n",
              "      <th>passenger_count</th>\n",
              "    </tr>\n",
              "  </thead>\n",
              "  <tbody>\n",
              "    <tr>\n",
              "      <th>0</th>\n",
              "      <td>-73.973320</td>\n",
              "      <td>40.763805</td>\n",
              "      <td>-73.981430</td>\n",
              "      <td>40.743835</td>\n",
              "      <td>1</td>\n",
              "    </tr>\n",
              "    <tr>\n",
              "      <th>1</th>\n",
              "      <td>-73.986862</td>\n",
              "      <td>40.719383</td>\n",
              "      <td>-73.998886</td>\n",
              "      <td>40.739201</td>\n",
              "      <td>1</td>\n",
              "    </tr>\n",
              "    <tr>\n",
              "      <th>2</th>\n",
              "      <td>-73.982524</td>\n",
              "      <td>40.751260</td>\n",
              "      <td>-73.979654</td>\n",
              "      <td>40.746139</td>\n",
              "      <td>1</td>\n",
              "    </tr>\n",
              "    <tr>\n",
              "      <th>3</th>\n",
              "      <td>-73.981160</td>\n",
              "      <td>40.767807</td>\n",
              "      <td>-73.990448</td>\n",
              "      <td>40.751635</td>\n",
              "      <td>1</td>\n",
              "    </tr>\n",
              "    <tr>\n",
              "      <th>4</th>\n",
              "      <td>-73.966046</td>\n",
              "      <td>40.789775</td>\n",
              "      <td>-73.988565</td>\n",
              "      <td>40.744427</td>\n",
              "      <td>1</td>\n",
              "    </tr>\n",
              "    <tr>\n",
              "      <th>...</th>\n",
              "      <td>...</td>\n",
              "      <td>...</td>\n",
              "      <td>...</td>\n",
              "      <td>...</td>\n",
              "      <td>...</td>\n",
              "    </tr>\n",
              "    <tr>\n",
              "      <th>9909</th>\n",
              "      <td>-73.968124</td>\n",
              "      <td>40.796997</td>\n",
              "      <td>-73.955643</td>\n",
              "      <td>40.780388</td>\n",
              "      <td>6</td>\n",
              "    </tr>\n",
              "    <tr>\n",
              "      <th>9910</th>\n",
              "      <td>-73.945511</td>\n",
              "      <td>40.803600</td>\n",
              "      <td>-73.960213</td>\n",
              "      <td>40.776371</td>\n",
              "      <td>6</td>\n",
              "    </tr>\n",
              "    <tr>\n",
              "      <th>9911</th>\n",
              "      <td>-73.991600</td>\n",
              "      <td>40.726608</td>\n",
              "      <td>-73.789742</td>\n",
              "      <td>40.647011</td>\n",
              "      <td>6</td>\n",
              "    </tr>\n",
              "    <tr>\n",
              "      <th>9912</th>\n",
              "      <td>-73.985573</td>\n",
              "      <td>40.735432</td>\n",
              "      <td>-73.939178</td>\n",
              "      <td>40.801731</td>\n",
              "      <td>6</td>\n",
              "    </tr>\n",
              "    <tr>\n",
              "      <th>9913</th>\n",
              "      <td>-73.988022</td>\n",
              "      <td>40.754070</td>\n",
              "      <td>-74.000282</td>\n",
              "      <td>40.759220</td>\n",
              "      <td>6</td>\n",
              "    </tr>\n",
              "  </tbody>\n",
              "</table>\n",
              "<p>9914 rows × 5 columns</p>\n",
              "</div>"
            ],
            "text/plain": [
              "      pickup_longitude  pickup_latitude  ...  dropoff_latitude  passenger_count\n",
              "0           -73.973320        40.763805  ...         40.743835                1\n",
              "1           -73.986862        40.719383  ...         40.739201                1\n",
              "2           -73.982524        40.751260  ...         40.746139                1\n",
              "3           -73.981160        40.767807  ...         40.751635                1\n",
              "4           -73.966046        40.789775  ...         40.744427                1\n",
              "...                ...              ...  ...               ...              ...\n",
              "9909        -73.968124        40.796997  ...         40.780388                6\n",
              "9910        -73.945511        40.803600  ...         40.776371                6\n",
              "9911        -73.991600        40.726608  ...         40.647011                6\n",
              "9912        -73.985573        40.735432  ...         40.801731                6\n",
              "9913        -73.988022        40.754070  ...         40.759220                6\n",
              "\n",
              "[9914 rows x 5 columns]"
            ]
          },
          "metadata": {},
          "execution_count": 69
        }
      ]
    },
    {
      "cell_type": "code",
      "source": [
        "test_preds = linear_model.predict(test_inputs)"
      ],
      "metadata": {
        "id": "c1zMmKVnuWew"
      },
      "execution_count": 70,
      "outputs": []
    },
    {
      "cell_type": "code",
      "source": [
        "sub"
      ],
      "metadata": {
        "colab": {
          "base_uri": "https://localhost:8080/",
          "height": 423
        },
        "id": "Qy6oWGhFuhX7",
        "outputId": "1fe2f1fe-4f36-4b66-c08c-201d74a3e972"
      },
      "execution_count": 71,
      "outputs": [
        {
          "output_type": "execute_result",
          "data": {
            "text/html": [
              "<div>\n",
              "<style scoped>\n",
              "    .dataframe tbody tr th:only-of-type {\n",
              "        vertical-align: middle;\n",
              "    }\n",
              "\n",
              "    .dataframe tbody tr th {\n",
              "        vertical-align: top;\n",
              "    }\n",
              "\n",
              "    .dataframe thead th {\n",
              "        text-align: right;\n",
              "    }\n",
              "</style>\n",
              "<table border=\"1\" class=\"dataframe\">\n",
              "  <thead>\n",
              "    <tr style=\"text-align: right;\">\n",
              "      <th></th>\n",
              "      <th>key</th>\n",
              "      <th>fare_amount</th>\n",
              "    </tr>\n",
              "  </thead>\n",
              "  <tbody>\n",
              "    <tr>\n",
              "      <th>0</th>\n",
              "      <td>08:24.0</td>\n",
              "      <td>11.35</td>\n",
              "    </tr>\n",
              "    <tr>\n",
              "      <th>1</th>\n",
              "      <td>08:24.0</td>\n",
              "      <td>11.35</td>\n",
              "    </tr>\n",
              "    <tr>\n",
              "      <th>2</th>\n",
              "      <td>53:44.0</td>\n",
              "      <td>11.35</td>\n",
              "    </tr>\n",
              "    <tr>\n",
              "      <th>3</th>\n",
              "      <td>12:12.0</td>\n",
              "      <td>11.35</td>\n",
              "    </tr>\n",
              "    <tr>\n",
              "      <th>4</th>\n",
              "      <td>12:12.0</td>\n",
              "      <td>11.35</td>\n",
              "    </tr>\n",
              "    <tr>\n",
              "      <th>...</th>\n",
              "      <td>...</td>\n",
              "      <td>...</td>\n",
              "    </tr>\n",
              "    <tr>\n",
              "      <th>9909</th>\n",
              "      <td>37:51.0</td>\n",
              "      <td>11.35</td>\n",
              "    </tr>\n",
              "    <tr>\n",
              "      <th>9910</th>\n",
              "      <td>05:51.0</td>\n",
              "      <td>11.35</td>\n",
              "    </tr>\n",
              "    <tr>\n",
              "      <th>9911</th>\n",
              "      <td>44:15.0</td>\n",
              "      <td>11.35</td>\n",
              "    </tr>\n",
              "    <tr>\n",
              "      <th>9912</th>\n",
              "      <td>05:19.0</td>\n",
              "      <td>11.35</td>\n",
              "    </tr>\n",
              "    <tr>\n",
              "      <th>9913</th>\n",
              "      <td>06:23.0</td>\n",
              "      <td>11.35</td>\n",
              "    </tr>\n",
              "  </tbody>\n",
              "</table>\n",
              "<p>9914 rows × 2 columns</p>\n",
              "</div>"
            ],
            "text/plain": [
              "          key  fare_amount\n",
              "0     08:24.0        11.35\n",
              "1     08:24.0        11.35\n",
              "2     53:44.0        11.35\n",
              "3     12:12.0        11.35\n",
              "4     12:12.0        11.35\n",
              "...       ...          ...\n",
              "9909  37:51.0        11.35\n",
              "9910  05:51.0        11.35\n",
              "9911  44:15.0        11.35\n",
              "9912  05:19.0        11.35\n",
              "9913  06:23.0        11.35\n",
              "\n",
              "[9914 rows x 2 columns]"
            ]
          },
          "metadata": {},
          "execution_count": 71
        }
      ]
    },
    {
      "cell_type": "code",
      "source": [
        "test_preds"
      ],
      "metadata": {
        "colab": {
          "base_uri": "https://localhost:8080/"
        },
        "id": "EznqAN14urzG",
        "outputId": "01f44537-fc10-45a6-d0ef-b85a876b7b3d"
      },
      "execution_count": 72,
      "outputs": [
        {
          "output_type": "execute_result",
          "data": {
            "text/plain": [
              "array([11.11597149, 11.15256055, 11.13578072, ..., 11.5794778 ,\n",
              "       11.6519232 , 11.56251612])"
            ]
          },
          "metadata": {},
          "execution_count": 72
        }
      ]
    },
    {
      "cell_type": "code",
      "source": [
        "sub['fare_amount'] = test_preds"
      ],
      "metadata": {
        "id": "f1G1c5QUuvfF"
      },
      "execution_count": 73,
      "outputs": []
    },
    {
      "cell_type": "code",
      "source": [
        "sub"
      ],
      "metadata": {
        "colab": {
          "base_uri": "https://localhost:8080/",
          "height": 423
        },
        "id": "a8_s474fvAC6",
        "outputId": "1799353e-d314-4609-b51c-29c20593a88f"
      },
      "execution_count": 74,
      "outputs": [
        {
          "output_type": "execute_result",
          "data": {
            "text/html": [
              "<div>\n",
              "<style scoped>\n",
              "    .dataframe tbody tr th:only-of-type {\n",
              "        vertical-align: middle;\n",
              "    }\n",
              "\n",
              "    .dataframe tbody tr th {\n",
              "        vertical-align: top;\n",
              "    }\n",
              "\n",
              "    .dataframe thead th {\n",
              "        text-align: right;\n",
              "    }\n",
              "</style>\n",
              "<table border=\"1\" class=\"dataframe\">\n",
              "  <thead>\n",
              "    <tr style=\"text-align: right;\">\n",
              "      <th></th>\n",
              "      <th>key</th>\n",
              "      <th>fare_amount</th>\n",
              "    </tr>\n",
              "  </thead>\n",
              "  <tbody>\n",
              "    <tr>\n",
              "      <th>0</th>\n",
              "      <td>08:24.0</td>\n",
              "      <td>11.115971</td>\n",
              "    </tr>\n",
              "    <tr>\n",
              "      <th>1</th>\n",
              "      <td>08:24.0</td>\n",
              "      <td>11.152561</td>\n",
              "    </tr>\n",
              "    <tr>\n",
              "      <th>2</th>\n",
              "      <td>53:44.0</td>\n",
              "      <td>11.135781</td>\n",
              "    </tr>\n",
              "    <tr>\n",
              "      <th>3</th>\n",
              "      <td>12:12.0</td>\n",
              "      <td>11.119363</td>\n",
              "    </tr>\n",
              "    <tr>\n",
              "      <th>4</th>\n",
              "      <td>12:12.0</td>\n",
              "      <td>11.084367</td>\n",
              "    </tr>\n",
              "    <tr>\n",
              "      <th>...</th>\n",
              "      <td>...</td>\n",
              "      <td>...</td>\n",
              "    </tr>\n",
              "    <tr>\n",
              "      <th>9909</th>\n",
              "      <td>37:51.0</td>\n",
              "      <td>11.554159</td>\n",
              "    </tr>\n",
              "    <tr>\n",
              "      <th>9910</th>\n",
              "      <td>05:51.0</td>\n",
              "      <td>11.530600</td>\n",
              "    </tr>\n",
              "    <tr>\n",
              "      <th>9911</th>\n",
              "      <td>44:15.0</td>\n",
              "      <td>11.579478</td>\n",
              "    </tr>\n",
              "    <tr>\n",
              "      <th>9912</th>\n",
              "      <td>05:19.0</td>\n",
              "      <td>11.651923</td>\n",
              "    </tr>\n",
              "    <tr>\n",
              "      <th>9913</th>\n",
              "      <td>06:23.0</td>\n",
              "      <td>11.562516</td>\n",
              "    </tr>\n",
              "  </tbody>\n",
              "</table>\n",
              "<p>9914 rows × 2 columns</p>\n",
              "</div>"
            ],
            "text/plain": [
              "          key  fare_amount\n",
              "0     08:24.0    11.115971\n",
              "1     08:24.0    11.152561\n",
              "2     53:44.0    11.135781\n",
              "3     12:12.0    11.119363\n",
              "4     12:12.0    11.084367\n",
              "...       ...          ...\n",
              "9909  37:51.0    11.554159\n",
              "9910  05:51.0    11.530600\n",
              "9911  44:15.0    11.579478\n",
              "9912  05:19.0    11.651923\n",
              "9913  06:23.0    11.562516\n",
              "\n",
              "[9914 rows x 2 columns]"
            ]
          },
          "metadata": {},
          "execution_count": 74
        }
      ]
    },
    {
      "cell_type": "code",
      "source": [
        "sub.to_csv('linear_model_submission.csv', index = None)"
      ],
      "metadata": {
        "id": "W51-FVMlvCh-"
      },
      "execution_count": 75,
      "outputs": []
    },
    {
      "cell_type": "code",
      "source": [
        "fname = 'linear_sun2.csv'"
      ],
      "metadata": {
        "id": "ja0hN0UFyBoK"
      },
      "execution_count": 76,
      "outputs": []
    },
    {
      "cell_type": "code",
      "source": [
        "def predict_and_submit(model, test_inputs, fmane):\n",
        "  test_preds = model.predict(test_inputs)\n",
        "  sub['fare_amount'] = test_preds\n",
        "  sub.to_csv(fname, index=None)\n",
        "  return sub"
      ],
      "metadata": {
        "id": "jnN7jFURvROj"
      },
      "execution_count": 77,
      "outputs": []
    },
    {
      "cell_type": "code",
      "source": [
        "predict_and_submit(linear_model,test_inputs, 'linear_sub2.csv')"
      ],
      "metadata": {
        "colab": {
          "base_uri": "https://localhost:8080/",
          "height": 423
        },
        "id": "iB6alYLkwRBN",
        "outputId": "6b647ee6-3a23-4745-e7cb-3e7260637dc7"
      },
      "execution_count": 78,
      "outputs": [
        {
          "output_type": "execute_result",
          "data": {
            "text/html": [
              "<div>\n",
              "<style scoped>\n",
              "    .dataframe tbody tr th:only-of-type {\n",
              "        vertical-align: middle;\n",
              "    }\n",
              "\n",
              "    .dataframe tbody tr th {\n",
              "        vertical-align: top;\n",
              "    }\n",
              "\n",
              "    .dataframe thead th {\n",
              "        text-align: right;\n",
              "    }\n",
              "</style>\n",
              "<table border=\"1\" class=\"dataframe\">\n",
              "  <thead>\n",
              "    <tr style=\"text-align: right;\">\n",
              "      <th></th>\n",
              "      <th>key</th>\n",
              "      <th>fare_amount</th>\n",
              "    </tr>\n",
              "  </thead>\n",
              "  <tbody>\n",
              "    <tr>\n",
              "      <th>0</th>\n",
              "      <td>08:24.0</td>\n",
              "      <td>11.115971</td>\n",
              "    </tr>\n",
              "    <tr>\n",
              "      <th>1</th>\n",
              "      <td>08:24.0</td>\n",
              "      <td>11.152561</td>\n",
              "    </tr>\n",
              "    <tr>\n",
              "      <th>2</th>\n",
              "      <td>53:44.0</td>\n",
              "      <td>11.135781</td>\n",
              "    </tr>\n",
              "    <tr>\n",
              "      <th>3</th>\n",
              "      <td>12:12.0</td>\n",
              "      <td>11.119363</td>\n",
              "    </tr>\n",
              "    <tr>\n",
              "      <th>4</th>\n",
              "      <td>12:12.0</td>\n",
              "      <td>11.084367</td>\n",
              "    </tr>\n",
              "    <tr>\n",
              "      <th>...</th>\n",
              "      <td>...</td>\n",
              "      <td>...</td>\n",
              "    </tr>\n",
              "    <tr>\n",
              "      <th>9909</th>\n",
              "      <td>37:51.0</td>\n",
              "      <td>11.554159</td>\n",
              "    </tr>\n",
              "    <tr>\n",
              "      <th>9910</th>\n",
              "      <td>05:51.0</td>\n",
              "      <td>11.530600</td>\n",
              "    </tr>\n",
              "    <tr>\n",
              "      <th>9911</th>\n",
              "      <td>44:15.0</td>\n",
              "      <td>11.579478</td>\n",
              "    </tr>\n",
              "    <tr>\n",
              "      <th>9912</th>\n",
              "      <td>05:19.0</td>\n",
              "      <td>11.651923</td>\n",
              "    </tr>\n",
              "    <tr>\n",
              "      <th>9913</th>\n",
              "      <td>06:23.0</td>\n",
              "      <td>11.562516</td>\n",
              "    </tr>\n",
              "  </tbody>\n",
              "</table>\n",
              "<p>9914 rows × 2 columns</p>\n",
              "</div>"
            ],
            "text/plain": [
              "          key  fare_amount\n",
              "0     08:24.0    11.115971\n",
              "1     08:24.0    11.152561\n",
              "2     53:44.0    11.135781\n",
              "3     12:12.0    11.119363\n",
              "4     12:12.0    11.084367\n",
              "...       ...          ...\n",
              "9909  37:51.0    11.554159\n",
              "9910  05:51.0    11.530600\n",
              "9911  44:15.0    11.579478\n",
              "9912  05:19.0    11.651923\n",
              "9913  06:23.0    11.562516\n",
              "\n",
              "[9914 rows x 2 columns]"
            ]
          },
          "metadata": {},
          "execution_count": 78
        }
      ]
    },
    {
      "cell_type": "code",
      "source": [
        "#features_Engineering\n",
        "def add_dateparts(train, col):\n",
        "  train[col + '_year'] = train[col].dt.year\n",
        "  train[col + '_month'] =train[col].dt.month\n",
        "  train[col + '_day'] = train[col].dt.day\n",
        "  train[col + '_weekday'] = train[col].dt.weekday\n",
        "  train[col + '_hour'] = train[col].dt.hour                          "
      ],
      "metadata": {
        "id": "bHP0oOAbxac2"
      },
      "execution_count": 79,
      "outputs": []
    },
    {
      "cell_type": "code",
      "source": [
        "add_dateparts(train_df, 'pickup_datetime')"
      ],
      "metadata": {
        "id": "3ezUUeZ22dt6"
      },
      "execution_count": 80,
      "outputs": []
    },
    {
      "cell_type": "code",
      "source": [
        "test['pickup_datetime'].dt.year"
      ],
      "metadata": {
        "colab": {
          "base_uri": "https://localhost:8080/"
        },
        "id": "TYsA_WmP2rKo",
        "outputId": "d6a09f25-4fec-4d7d-f83f-9d9ed01f6860"
      },
      "execution_count": 81,
      "outputs": [
        {
          "output_type": "execute_result",
          "data": {
            "text/plain": [
              "0       2015\n",
              "1       2015\n",
              "2       2011\n",
              "3       2012\n",
              "4       2012\n",
              "        ... \n",
              "9909    2015\n",
              "9910    2015\n",
              "9911    2015\n",
              "9912    2015\n",
              "9913    2015\n",
              "Name: pickup_datetime, Length: 9914, dtype: int64"
            ]
          },
          "metadata": {},
          "execution_count": 81
        }
      ]
    },
    {
      "cell_type": "code",
      "source": [
        "#distance between pickup and drop\n",
        "from math import radians, cos, sin, asin, sqrt\n",
        "def haversine_np(lon1, lat1, lon2, lat2):\n",
        "    \"\"\"\n",
        "    Calculate the great circle distance between two points \n",
        "    on the earth (specified in decimal degrees)\n",
        "    \"\"\"\n",
        "    # convert decimal degrees to radians \n",
        "    lon1, lat1, lon2, lat2 = map(radians, [lon1, lat1, lon2, lat2])\n",
        "    # haversine formula \n",
        "    dlon = lon2 - lon1 \n",
        "    dlat = lat2 - lat1 \n",
        "    a = sin(dlat/2)**2 + cos(lat1) * cos(lat2) * sin(dlon/2)**2\n",
        "    c = 2 * asin(sqrt(a)) \n",
        "    km = 6367 * c\n",
        "    return km\n",
        "\n"
      ],
      "metadata": {
        "id": "RATLJnjO48q5"
      },
      "execution_count": 82,
      "outputs": []
    },
    {
      "cell_type": "code",
      "source": [
        "def add_trip_distance(train):\n",
        "  train['trip_distance']  = haversine_np(train['pickup_longitude'],\n",
        "                                         train['pickup_latitude'],\n",
        "                                         train['dropoff_longitude'],\n",
        "                                         train['dropoff_latitude'])"
      ],
      "metadata": {
        "id": "UO5tCpt86kco"
      },
      "execution_count": 83,
      "outputs": []
    },
    {
      "cell_type": "code",
      "source": [
        "jfk_lonlat = -73.7781, 40.6413\n",
        "lga_lonlat = -73.8740, 40.7769\n",
        "ewr_lonlat = -74.1745, 40.6895\n",
        "met_lonlat = -73.9632, 40.7794\n",
        "wtc_lonlat = -74.0099, 40.7126\n"
      ],
      "metadata": {
        "id": "q_VXnAMl7e8e"
      },
      "execution_count": 84,
      "outputs": []
    },
    {
      "cell_type": "code",
      "source": [
        "def add_landmark_dropoff_distance(train, landmark_name, landmark_lonlat):\n",
        "    lon, lat = landmark_lonlat\n",
        "    train[landmark_name + '_drop_distance'] = haversine_np(lon, lat, train['dropoff_longitude'], train['dropoff_latitude'])\n",
        "\n"
      ],
      "metadata": {
        "id": "pugr6Veh7jx-"
      },
      "execution_count": 85,
      "outputs": []
    },
    {
      "cell_type": "code",
      "source": [
        "def add_landmarks(a_df):\n",
        "  landmarks = [('jfk', jfk_lonlat), ('lga', lga_lonlat), ('ewr', ewr_lonlat), ('met', met_lonlat), ('wtc', wtc_lonlat)]\n",
        "  for name, lonlat in landmarks:\n",
        "    add_landmark_dropoff_distance(a_df, name, lonlat)"
      ],
      "metadata": {
        "id": "J9oOe-BA9Xs1"
      },
      "execution_count": 86,
      "outputs": []
    },
    {
      "cell_type": "code",
      "source": [
        "test.describe()"
      ],
      "metadata": {
        "colab": {
          "base_uri": "https://localhost:8080/",
          "height": 300
        },
        "id": "2QjNsAKP9us5",
        "outputId": "1363231b-8c44-491d-bce4-b341201c477d"
      },
      "execution_count": 87,
      "outputs": [
        {
          "output_type": "execute_result",
          "data": {
            "text/html": [
              "<div>\n",
              "<style scoped>\n",
              "    .dataframe tbody tr th:only-of-type {\n",
              "        vertical-align: middle;\n",
              "    }\n",
              "\n",
              "    .dataframe tbody tr th {\n",
              "        vertical-align: top;\n",
              "    }\n",
              "\n",
              "    .dataframe thead th {\n",
              "        text-align: right;\n",
              "    }\n",
              "</style>\n",
              "<table border=\"1\" class=\"dataframe\">\n",
              "  <thead>\n",
              "    <tr style=\"text-align: right;\">\n",
              "      <th></th>\n",
              "      <th>pickup_longitude</th>\n",
              "      <th>pickup_latitude</th>\n",
              "      <th>dropoff_longitude</th>\n",
              "      <th>dropoff_latitude</th>\n",
              "      <th>passenger_count</th>\n",
              "    </tr>\n",
              "  </thead>\n",
              "  <tbody>\n",
              "    <tr>\n",
              "      <th>count</th>\n",
              "      <td>9914.000000</td>\n",
              "      <td>9914.000000</td>\n",
              "      <td>9914.000000</td>\n",
              "      <td>9914.000000</td>\n",
              "      <td>9914.000000</td>\n",
              "    </tr>\n",
              "    <tr>\n",
              "      <th>mean</th>\n",
              "      <td>-73.974722</td>\n",
              "      <td>40.751041</td>\n",
              "      <td>-73.973657</td>\n",
              "      <td>40.751743</td>\n",
              "      <td>1.671273</td>\n",
              "    </tr>\n",
              "    <tr>\n",
              "      <th>std</th>\n",
              "      <td>0.042774</td>\n",
              "      <td>0.033541</td>\n",
              "      <td>0.039072</td>\n",
              "      <td>0.035435</td>\n",
              "      <td>1.278747</td>\n",
              "    </tr>\n",
              "    <tr>\n",
              "      <th>min</th>\n",
              "      <td>-74.252193</td>\n",
              "      <td>40.573143</td>\n",
              "      <td>-74.263242</td>\n",
              "      <td>40.568973</td>\n",
              "      <td>1.000000</td>\n",
              "    </tr>\n",
              "    <tr>\n",
              "      <th>25%</th>\n",
              "      <td>-73.992501</td>\n",
              "      <td>40.736125</td>\n",
              "      <td>-73.991247</td>\n",
              "      <td>40.735254</td>\n",
              "      <td>1.000000</td>\n",
              "    </tr>\n",
              "    <tr>\n",
              "      <th>50%</th>\n",
              "      <td>-73.982326</td>\n",
              "      <td>40.753051</td>\n",
              "      <td>-73.980015</td>\n",
              "      <td>40.754065</td>\n",
              "      <td>1.000000</td>\n",
              "    </tr>\n",
              "    <tr>\n",
              "      <th>75%</th>\n",
              "      <td>-73.968013</td>\n",
              "      <td>40.767113</td>\n",
              "      <td>-73.964059</td>\n",
              "      <td>40.768757</td>\n",
              "      <td>2.000000</td>\n",
              "    </tr>\n",
              "    <tr>\n",
              "      <th>max</th>\n",
              "      <td>-72.986532</td>\n",
              "      <td>41.709555</td>\n",
              "      <td>-72.990963</td>\n",
              "      <td>41.696683</td>\n",
              "      <td>6.000000</td>\n",
              "    </tr>\n",
              "  </tbody>\n",
              "</table>\n",
              "</div>"
            ],
            "text/plain": [
              "       pickup_longitude  pickup_latitude  ...  dropoff_latitude  passenger_count\n",
              "count       9914.000000      9914.000000  ...       9914.000000      9914.000000\n",
              "mean         -73.974722        40.751041  ...         40.751743         1.671273\n",
              "std            0.042774         0.033541  ...          0.035435         1.278747\n",
              "min          -74.252193        40.573143  ...         40.568973         1.000000\n",
              "25%          -73.992501        40.736125  ...         40.735254         1.000000\n",
              "50%          -73.982326        40.753051  ...         40.754065         1.000000\n",
              "75%          -73.968013        40.767113  ...         40.768757         2.000000\n",
              "max          -72.986532        41.709555  ...         41.696683         6.000000\n",
              "\n",
              "[8 rows x 5 columns]"
            ]
          },
          "metadata": {},
          "execution_count": 87
        }
      ]
    },
    {
      "cell_type": "code",
      "source": [
        "def remove_outliers(df):\n",
        "  return train[(train['fare_amount'] >= 1.) &\n",
        "               (train['fare_amount'] <= 500.) &\n",
        "               (train['pickup_longitude'] >= -75) & \n",
        "               (train['pickup_longitude'] <= -72) & \n",
        "               (train['dropoff_longitude'] >= -75) & \n",
        "               (train['dropoff_longitude'] <= -72) & \n",
        "               (train['pickup_latitude'] >= 40) & \n",
        "               (train['pickup_latitude'] <= 42) & \n",
        "               (train['dropoff_latitude'] >=40) & \n",
        "               (train['dropoff_latitude'] <= 42) & \n",
        "               (train['passenger_count'] >= 1) & \n",
        "               (train['passenger_count'] <= 6)]"
      ],
      "metadata": {
        "id": "JomJiIoK-qah"
      },
      "execution_count": 88,
      "outputs": []
    },
    {
      "cell_type": "code",
      "source": [
        "remove_outliers(train_df)"
      ],
      "metadata": {
        "colab": {
          "base_uri": "https://localhost:8080/",
          "height": 423
        },
        "id": "0F3El5CQlsbJ",
        "outputId": "e893d060-7ab6-42d5-949c-e46e8946752f"
      },
      "execution_count": 89,
      "outputs": [
        {
          "output_type": "execute_result",
          "data": {
            "text/html": [
              "<div>\n",
              "<style scoped>\n",
              "    .dataframe tbody tr th:only-of-type {\n",
              "        vertical-align: middle;\n",
              "    }\n",
              "\n",
              "    .dataframe tbody tr th {\n",
              "        vertical-align: top;\n",
              "    }\n",
              "\n",
              "    .dataframe thead th {\n",
              "        text-align: right;\n",
              "    }\n",
              "</style>\n",
              "<table border=\"1\" class=\"dataframe\">\n",
              "  <thead>\n",
              "    <tr style=\"text-align: right;\">\n",
              "      <th></th>\n",
              "      <th>key</th>\n",
              "      <th>fare_amount</th>\n",
              "      <th>pickup_datetime</th>\n",
              "      <th>pickup_longitude</th>\n",
              "      <th>pickup_latitude</th>\n",
              "      <th>dropoff_longitude</th>\n",
              "      <th>dropoff_latitude</th>\n",
              "      <th>passenger_count</th>\n",
              "    </tr>\n",
              "  </thead>\n",
              "  <tbody>\n",
              "    <tr>\n",
              "      <th>0</th>\n",
              "      <td>36:22.0</td>\n",
              "      <td>4.0</td>\n",
              "      <td>2014-12-06 20:36:22+00:00</td>\n",
              "      <td>-73.979813</td>\n",
              "      <td>40.751904</td>\n",
              "      <td>-73.979446</td>\n",
              "      <td>40.755482</td>\n",
              "      <td>1</td>\n",
              "    </tr>\n",
              "    <tr>\n",
              "      <th>2</th>\n",
              "      <td>07:00.0</td>\n",
              "      <td>8.9</td>\n",
              "      <td>2011-06-15 18:07:00+00:00</td>\n",
              "      <td>-73.996330</td>\n",
              "      <td>40.753223</td>\n",
              "      <td>-73.978897</td>\n",
              "      <td>40.766964</td>\n",
              "      <td>3</td>\n",
              "    </tr>\n",
              "    <tr>\n",
              "      <th>3</th>\n",
              "      <td>33:00.0</td>\n",
              "      <td>6.9</td>\n",
              "      <td>2009-12-14 12:33:00+00:00</td>\n",
              "      <td>-73.982430</td>\n",
              "      <td>40.745747</td>\n",
              "      <td>-73.982430</td>\n",
              "      <td>40.745747</td>\n",
              "      <td>1</td>\n",
              "    </tr>\n",
              "    <tr>\n",
              "      <th>4</th>\n",
              "      <td>26:54.0</td>\n",
              "      <td>7.0</td>\n",
              "      <td>2013-11-06 11:26:54+00:00</td>\n",
              "      <td>-73.959061</td>\n",
              "      <td>40.781059</td>\n",
              "      <td>-73.962059</td>\n",
              "      <td>40.768604</td>\n",
              "      <td>1</td>\n",
              "    </tr>\n",
              "    <tr>\n",
              "      <th>5</th>\n",
              "      <td>00:16.0</td>\n",
              "      <td>15.5</td>\n",
              "      <td>2014-12-08 01:00:16+00:00</td>\n",
              "      <td>-73.957672</td>\n",
              "      <td>40.717888</td>\n",
              "      <td>-73.942581</td>\n",
              "      <td>40.686398</td>\n",
              "      <td>1</td>\n",
              "    </tr>\n",
              "    <tr>\n",
              "      <th>...</th>\n",
              "      <td>...</td>\n",
              "      <td>...</td>\n",
              "      <td>...</td>\n",
              "      <td>...</td>\n",
              "      <td>...</td>\n",
              "      <td>...</td>\n",
              "      <td>...</td>\n",
              "      <td>...</td>\n",
              "    </tr>\n",
              "    <tr>\n",
              "      <th>10440</th>\n",
              "      <td>38:35.0</td>\n",
              "      <td>10.9</td>\n",
              "      <td>2010-06-01 13:38:35+00:00</td>\n",
              "      <td>-73.978874</td>\n",
              "      <td>40.750900</td>\n",
              "      <td>-73.980896</td>\n",
              "      <td>40.774017</td>\n",
              "      <td>1</td>\n",
              "    </tr>\n",
              "    <tr>\n",
              "      <th>10441</th>\n",
              "      <td>58:32.0</td>\n",
              "      <td>5.3</td>\n",
              "      <td>2012-05-04 16:58:32+00:00</td>\n",
              "      <td>-73.986183</td>\n",
              "      <td>40.744007</td>\n",
              "      <td>-73.988518</td>\n",
              "      <td>40.748154</td>\n",
              "      <td>3</td>\n",
              "    </tr>\n",
              "    <tr>\n",
              "      <th>10442</th>\n",
              "      <td>32:59.0</td>\n",
              "      <td>26.5</td>\n",
              "      <td>2012-05-06 19:32:59+00:00</td>\n",
              "      <td>-73.873032</td>\n",
              "      <td>40.774097</td>\n",
              "      <td>-73.782951</td>\n",
              "      <td>40.643951</td>\n",
              "      <td>1</td>\n",
              "    </tr>\n",
              "    <tr>\n",
              "      <th>10443</th>\n",
              "      <td>34:00.0</td>\n",
              "      <td>8.1</td>\n",
              "      <td>2009-09-18 01:34:00+00:00</td>\n",
              "      <td>-73.985794</td>\n",
              "      <td>40.731243</td>\n",
              "      <td>-74.007080</td>\n",
              "      <td>40.706402</td>\n",
              "      <td>1</td>\n",
              "    </tr>\n",
              "    <tr>\n",
              "      <th>10444</th>\n",
              "      <td>26:40.0</td>\n",
              "      <td>38.5</td>\n",
              "      <td>2015-02-15 01:26:40+00:00</td>\n",
              "      <td>-73.990860</td>\n",
              "      <td>40.756351</td>\n",
              "      <td>-73.960823</td>\n",
              "      <td>40.640747</td>\n",
              "      <td>1</td>\n",
              "    </tr>\n",
              "  </tbody>\n",
              "</table>\n",
              "<p>10201 rows × 8 columns</p>\n",
              "</div>"
            ],
            "text/plain": [
              "           key  fare_amount  ... dropoff_latitude  passenger_count\n",
              "0      36:22.0          4.0  ...        40.755482                1\n",
              "2      07:00.0          8.9  ...        40.766964                3\n",
              "3      33:00.0          6.9  ...        40.745747                1\n",
              "4      26:54.0          7.0  ...        40.768604                1\n",
              "5      00:16.0         15.5  ...        40.686398                1\n",
              "...        ...          ...  ...              ...              ...\n",
              "10440  38:35.0         10.9  ...        40.774017                1\n",
              "10441  58:32.0          5.3  ...        40.748154                3\n",
              "10442  32:59.0         26.5  ...        40.643951                1\n",
              "10443  34:00.0          8.1  ...        40.706402                1\n",
              "10444  26:40.0         38.5  ...        40.640747                1\n",
              "\n",
              "[10201 rows x 8 columns]"
            ]
          },
          "metadata": {},
          "execution_count": 89
        }
      ]
    },
    {
      "cell_type": "code",
      "source": [
        "remove_outliers(val)"
      ],
      "metadata": {
        "colab": {
          "base_uri": "https://localhost:8080/",
          "height": 423
        },
        "id": "lF7GLxLcl2fA",
        "outputId": "5bc5ab0f-5686-4159-80fe-1312146286a8"
      },
      "execution_count": 90,
      "outputs": [
        {
          "output_type": "execute_result",
          "data": {
            "text/html": [
              "<div>\n",
              "<style scoped>\n",
              "    .dataframe tbody tr th:only-of-type {\n",
              "        vertical-align: middle;\n",
              "    }\n",
              "\n",
              "    .dataframe tbody tr th {\n",
              "        vertical-align: top;\n",
              "    }\n",
              "\n",
              "    .dataframe thead th {\n",
              "        text-align: right;\n",
              "    }\n",
              "</style>\n",
              "<table border=\"1\" class=\"dataframe\">\n",
              "  <thead>\n",
              "    <tr style=\"text-align: right;\">\n",
              "      <th></th>\n",
              "      <th>key</th>\n",
              "      <th>fare_amount</th>\n",
              "      <th>pickup_datetime</th>\n",
              "      <th>pickup_longitude</th>\n",
              "      <th>pickup_latitude</th>\n",
              "      <th>dropoff_longitude</th>\n",
              "      <th>dropoff_latitude</th>\n",
              "      <th>passenger_count</th>\n",
              "    </tr>\n",
              "  </thead>\n",
              "  <tbody>\n",
              "    <tr>\n",
              "      <th>0</th>\n",
              "      <td>36:22.0</td>\n",
              "      <td>4.0</td>\n",
              "      <td>2014-12-06 20:36:22+00:00</td>\n",
              "      <td>-73.979813</td>\n",
              "      <td>40.751904</td>\n",
              "      <td>-73.979446</td>\n",
              "      <td>40.755482</td>\n",
              "      <td>1</td>\n",
              "    </tr>\n",
              "    <tr>\n",
              "      <th>2</th>\n",
              "      <td>07:00.0</td>\n",
              "      <td>8.9</td>\n",
              "      <td>2011-06-15 18:07:00+00:00</td>\n",
              "      <td>-73.996330</td>\n",
              "      <td>40.753223</td>\n",
              "      <td>-73.978897</td>\n",
              "      <td>40.766964</td>\n",
              "      <td>3</td>\n",
              "    </tr>\n",
              "    <tr>\n",
              "      <th>3</th>\n",
              "      <td>33:00.0</td>\n",
              "      <td>6.9</td>\n",
              "      <td>2009-12-14 12:33:00+00:00</td>\n",
              "      <td>-73.982430</td>\n",
              "      <td>40.745747</td>\n",
              "      <td>-73.982430</td>\n",
              "      <td>40.745747</td>\n",
              "      <td>1</td>\n",
              "    </tr>\n",
              "    <tr>\n",
              "      <th>4</th>\n",
              "      <td>26:54.0</td>\n",
              "      <td>7.0</td>\n",
              "      <td>2013-11-06 11:26:54+00:00</td>\n",
              "      <td>-73.959061</td>\n",
              "      <td>40.781059</td>\n",
              "      <td>-73.962059</td>\n",
              "      <td>40.768604</td>\n",
              "      <td>1</td>\n",
              "    </tr>\n",
              "    <tr>\n",
              "      <th>5</th>\n",
              "      <td>00:16.0</td>\n",
              "      <td>15.5</td>\n",
              "      <td>2014-12-08 01:00:16+00:00</td>\n",
              "      <td>-73.957672</td>\n",
              "      <td>40.717888</td>\n",
              "      <td>-73.942581</td>\n",
              "      <td>40.686398</td>\n",
              "      <td>1</td>\n",
              "    </tr>\n",
              "    <tr>\n",
              "      <th>...</th>\n",
              "      <td>...</td>\n",
              "      <td>...</td>\n",
              "      <td>...</td>\n",
              "      <td>...</td>\n",
              "      <td>...</td>\n",
              "      <td>...</td>\n",
              "      <td>...</td>\n",
              "      <td>...</td>\n",
              "    </tr>\n",
              "    <tr>\n",
              "      <th>10440</th>\n",
              "      <td>38:35.0</td>\n",
              "      <td>10.9</td>\n",
              "      <td>2010-06-01 13:38:35+00:00</td>\n",
              "      <td>-73.978874</td>\n",
              "      <td>40.750900</td>\n",
              "      <td>-73.980896</td>\n",
              "      <td>40.774017</td>\n",
              "      <td>1</td>\n",
              "    </tr>\n",
              "    <tr>\n",
              "      <th>10441</th>\n",
              "      <td>58:32.0</td>\n",
              "      <td>5.3</td>\n",
              "      <td>2012-05-04 16:58:32+00:00</td>\n",
              "      <td>-73.986183</td>\n",
              "      <td>40.744007</td>\n",
              "      <td>-73.988518</td>\n",
              "      <td>40.748154</td>\n",
              "      <td>3</td>\n",
              "    </tr>\n",
              "    <tr>\n",
              "      <th>10442</th>\n",
              "      <td>32:59.0</td>\n",
              "      <td>26.5</td>\n",
              "      <td>2012-05-06 19:32:59+00:00</td>\n",
              "      <td>-73.873032</td>\n",
              "      <td>40.774097</td>\n",
              "      <td>-73.782951</td>\n",
              "      <td>40.643951</td>\n",
              "      <td>1</td>\n",
              "    </tr>\n",
              "    <tr>\n",
              "      <th>10443</th>\n",
              "      <td>34:00.0</td>\n",
              "      <td>8.1</td>\n",
              "      <td>2009-09-18 01:34:00+00:00</td>\n",
              "      <td>-73.985794</td>\n",
              "      <td>40.731243</td>\n",
              "      <td>-74.007080</td>\n",
              "      <td>40.706402</td>\n",
              "      <td>1</td>\n",
              "    </tr>\n",
              "    <tr>\n",
              "      <th>10444</th>\n",
              "      <td>26:40.0</td>\n",
              "      <td>38.5</td>\n",
              "      <td>2015-02-15 01:26:40+00:00</td>\n",
              "      <td>-73.990860</td>\n",
              "      <td>40.756351</td>\n",
              "      <td>-73.960823</td>\n",
              "      <td>40.640747</td>\n",
              "      <td>1</td>\n",
              "    </tr>\n",
              "  </tbody>\n",
              "</table>\n",
              "<p>10201 rows × 8 columns</p>\n",
              "</div>"
            ],
            "text/plain": [
              "           key  fare_amount  ... dropoff_latitude  passenger_count\n",
              "0      36:22.0          4.0  ...        40.755482                1\n",
              "2      07:00.0          8.9  ...        40.766964                3\n",
              "3      33:00.0          6.9  ...        40.745747                1\n",
              "4      26:54.0          7.0  ...        40.768604                1\n",
              "5      00:16.0         15.5  ...        40.686398                1\n",
              "...        ...          ...  ...              ...              ...\n",
              "10440  38:35.0         10.9  ...        40.774017                1\n",
              "10441  58:32.0          5.3  ...        40.748154                3\n",
              "10442  32:59.0         26.5  ...        40.643951                1\n",
              "10443  34:00.0          8.1  ...        40.706402                1\n",
              "10444  26:40.0         38.5  ...        40.640747                1\n",
              "\n",
              "[10201 rows x 8 columns]"
            ]
          },
          "metadata": {},
          "execution_count": 90
        }
      ]
    },
    {
      "cell_type": "code",
      "source": [
        ""
      ],
      "metadata": {
        "id": "D4S1doBql_14"
      },
      "execution_count": 90,
      "outputs": []
    },
    {
      "cell_type": "code",
      "source": [
        "#train_df.t0_parquet('train.parquet')"
      ],
      "metadata": {
        "id": "i2YnXMfxhpfc"
      },
      "execution_count": 91,
      "outputs": []
    },
    {
      "cell_type": "code",
      "source": [
        ""
      ],
      "metadata": {
        "id": "UIJz32e3l-1C"
      },
      "execution_count": 91,
      "outputs": []
    },
    {
      "cell_type": "code",
      "source": [
        "#val_df.to_parquet('val_parquet')\n"
      ],
      "metadata": {
        "id": "8Ym8Y-6jhpm0"
      },
      "execution_count": 92,
      "outputs": []
    },
    {
      "cell_type": "code",
      "source": [
        "#train and evaluate different models\n",
        "#split inputs&targets\n",
        "\n",
        "train_df.columns"
      ],
      "metadata": {
        "colab": {
          "base_uri": "https://localhost:8080/"
        },
        "id": "BP47ts4Ahpts",
        "outputId": "3489804d-0d95-4474-bbd6-49c3417ae3aa"
      },
      "execution_count": 93,
      "outputs": [
        {
          "output_type": "execute_result",
          "data": {
            "text/plain": [
              "Index(['key', 'fare_amount', 'pickup_datetime', 'pickup_longitude',\n",
              "       'pickup_latitude', 'dropoff_longitude', 'dropoff_latitude',\n",
              "       'passenger_count', 'pickup_datetime_year', 'pickup_datetime_month',\n",
              "       'pickup_datetime_day', 'pickup_datetime_weekday',\n",
              "       'pickup_datetime_hour'],\n",
              "      dtype='object')"
            ]
          },
          "metadata": {},
          "execution_count": 93
        }
      ]
    },
    {
      "cell_type": "code",
      "source": [
        "input_cols = ['fare_amount', 'pickup_datetime', 'pickup_longitude',\n",
        "       'pickup_latitude', 'dropoff_longitude', 'dropoff_latitude',\n",
        "       'passenger_count', 'pickup_datetime_year', 'pickup_datetime_month',\n",
        "       'pickup_datetime_day', 'pickup_datetime_weekday',\n",
        "       'pickup_datetime_hour']"
      ],
      "metadata": {
        "id": "KvgLpQ6ghp1X"
      },
      "execution_count": 94,
      "outputs": []
    },
    {
      "cell_type": "code",
      "source": [
        "target_col = 'fare_amount'"
      ],
      "metadata": {
        "id": "Qc4VhXcGhp8S"
      },
      "execution_count": 95,
      "outputs": []
    },
    {
      "cell_type": "code",
      "source": [
        "train_inputs = train_df[input_cols]\n",
        "train_targets = train_df[target_col]"
      ],
      "metadata": {
        "id": "Crw53NakhqCU"
      },
      "execution_count": 96,
      "outputs": []
    },
    {
      "cell_type": "code",
      "source": [
        "#val_inputs = val[input_cols]\n",
        "#val_inputs = test[input_cols]"
      ],
      "metadata": {
        "id": "6XRNzpG7hqHb"
      },
      "execution_count": 97,
      "outputs": []
    },
    {
      "cell_type": "code",
      "source": [
        "def evaluate(model):\n",
        "    train_preds = model.predict(train_inputs)\n",
        "    train_rmse = rmse(train_targets, train_preds, squared=False)\n",
        "    val_preds = model.predict(val_inputs)\n",
        "    val_rmse = rmse(val_targets, val_preds)\n",
        "    return train_rmse, val_rmse, train_preds, val_preds"
      ],
      "metadata": {
        "id": "A4rATc1GhqNp"
      },
      "execution_count": 98,
      "outputs": []
    },
    {
      "cell_type": "code",
      "source": [
        "#ridge regression\n",
        "\n",
        "from sklearn.linear_model import Ridge"
      ],
      "metadata": {
        "id": "hvZ2bm_IoPdA"
      },
      "execution_count": 99,
      "outputs": []
    },
    {
      "cell_type": "code",
      "source": [
        "modell = Ridge(random_state= 42, alpha = 0.9)"
      ],
      "metadata": {
        "id": "OyGyuKpYotMG"
      },
      "execution_count": 100,
      "outputs": []
    },
    {
      "cell_type": "code",
      "source": [
        "#modell.fit(train_inputs, train_targets)"
      ],
      "metadata": {
        "id": "fE5WLj-Ro2dQ"
      },
      "execution_count": 101,
      "outputs": []
    },
    {
      "cell_type": "code",
      "source": [
        "#train_preds = modell.predict(train_inputs)"
      ],
      "metadata": {
        "id": "kdkp0ygOpdxb"
      },
      "execution_count": 102,
      "outputs": []
    },
    {
      "cell_type": "code",
      "source": [
        "#evaluate(modell)"
      ],
      "metadata": {
        "id": "w_TFR6XMpEmP"
      },
      "execution_count": 103,
      "outputs": []
    },
    {
      "cell_type": "code",
      "source": [
        "#predict_and_submit(modell, test_inputs, 'ridge_submission.csv')"
      ],
      "metadata": {
        "id": "C2Z5TdyrpUPy"
      },
      "execution_count": 104,
      "outputs": []
    },
    {
      "cell_type": "code",
      "source": [
        "#random forest\n",
        "!pip install -U scikit-learn==0.21.3"
      ],
      "metadata": {
        "colab": {
          "base_uri": "https://localhost:8080/"
        },
        "id": "ap3gF9FzrN8g",
        "outputId": "e3454a4e-0cb8-4cb9-e18d-55103bb8fe89"
      },
      "execution_count": 105,
      "outputs": [
        {
          "output_type": "stream",
          "name": "stdout",
          "text": [
            "Requirement already satisfied: scikit-learn==0.21.3 in /usr/local/lib/python3.7/dist-packages (0.21.3)\n",
            "Requirement already satisfied: numpy>=1.11.0 in /usr/local/lib/python3.7/dist-packages (from scikit-learn==0.21.3) (1.19.5)\n",
            "Requirement already satisfied: joblib>=0.11 in /usr/local/lib/python3.7/dist-packages (from scikit-learn==0.21.3) (1.1.0)\n",
            "Requirement already satisfied: scipy>=0.17.0 in /usr/local/lib/python3.7/dist-packages (from scikit-learn==0.21.3) (1.4.1)\n"
          ]
        }
      ]
    },
    {
      "cell_type": "code",
      "source": [
        "from sklearn.ensemble import RandomForestRegressor"
      ],
      "metadata": {
        "id": "IrklbXlWq4Vd"
      },
      "execution_count": 107,
      "outputs": []
    },
    {
      "cell_type": "code",
      "source": [
        "model2 = RandomForestRegressor(random_state= 42, n_jobs =-1, max_depth = 10, n_estimators=100)"
      ],
      "metadata": {
        "id": "kDT5eJGMrf35"
      },
      "execution_count": 108,
      "outputs": []
    },
    {
      "cell_type": "code",
      "source": [
        "%%time\n",
        "#model2.fit(train_inputs, train_targets)"
      ],
      "metadata": {
        "colab": {
          "base_uri": "https://localhost:8080/"
        },
        "id": "c-IEEyRXt8G0",
        "outputId": "94b0c303-e32e-4d10-fb9a-f961bb519109"
      },
      "execution_count": 110,
      "outputs": [
        {
          "output_type": "stream",
          "name": "stdout",
          "text": [
            "CPU times: user 3 µs, sys: 1e+03 ns, total: 4 µs\n",
            "Wall time: 7.15 µs\n"
          ]
        }
      ]
    },
    {
      "cell_type": "code",
      "source": [
        "#evaluate(model2)"
      ],
      "metadata": {
        "id": "WSV2jtUuupE7"
      },
      "execution_count": 111,
      "outputs": []
    },
    {
      "cell_type": "code",
      "source": [
        "#predict_and_submit(model2, test_inputs 'rf_submission.csv')"
      ],
      "metadata": {
        "id": "TbgH-goyvbe7"
      },
      "execution_count": 113,
      "outputs": []
    },
    {
      "cell_type": "code",
      "source": [
        "#Gradient Boosting"
      ],
      "metadata": {
        "id": "MKtgJu_yvmaD"
      },
      "execution_count": 114,
      "outputs": []
    },
    {
      "cell_type": "code",
      "source": [
        "from xgboost import XGBRegressor"
      ],
      "metadata": {
        "id": "9p9Yc9hSwByr"
      },
      "execution_count": 115,
      "outputs": []
    },
    {
      "cell_type": "code",
      "source": [
        "model3 = XGBRegressor(max_depth=5, objective = 'reg:squarederror', n_estimators=200, random_state=42, n_jobs = -1)"
      ],
      "metadata": {
        "id": "Bzw3U86GwL8b"
      },
      "execution_count": 116,
      "outputs": []
    },
    {
      "cell_type": "code",
      "source": [
        "#model3.fit(train_inputs, train_targets)"
      ],
      "metadata": {
        "id": "sh_7HTtmwvDi"
      },
      "execution_count": 118,
      "outputs": []
    },
    {
      "cell_type": "code",
      "source": [
        "#evaluate(model3)"
      ],
      "metadata": {
        "id": "Uz6zPJXqw2iD"
      },
      "execution_count": 120,
      "outputs": []
    },
    {
      "cell_type": "code",
      "source": [
        "#predict_and_submit(model3,test_inputs, 'xgb_submission.csv )"
      ],
      "metadata": {
        "id": "anTwgFsow-M0"
      },
      "execution_count": 121,
      "outputs": []
    },
    {
      "cell_type": "code",
      "source": [
        "#hypertuning"
      ],
      "metadata": {
        "id": "fPu_h3v7xTt8"
      },
      "execution_count": 122,
      "outputs": []
    },
    {
      "cell_type": "code",
      "source": [
        "import matplotlib.pyplot as plt\n"
      ],
      "metadata": {
        "id": "FMIgL5cqxnJ2"
      },
      "execution_count": 123,
      "outputs": []
    },
    {
      "cell_type": "code",
      "source": [
        "def test_params(ModelClass, **params):\n",
        "    \"\"\"Trains a model with the given parameters and returns training & validation RMSE\"\"\"\n",
        "    model = ModelClass(**params).fit(train_inputs, train_targets)\n",
        "    train_rmse = mean_squared_error(model.predict(train_inputs), train_targets, squared=False)\n",
        "    val_rmse = mean_squared_error(model.predict(val_inputs), val_targets, squared=False)\n",
        "    return train_rmse, val_rmse\n",
        "\n",
        "def test_param_and_plot(ModelClass, param_name, param_values, **other_params):\n",
        "    \"\"\"Trains multiple models by varying the value of param_name according to param_values\"\"\"\n",
        "    train_errors, val_errors = [], [] \n",
        "    for value in param_values:\n",
        "        params = dict(other_params)\n",
        "        params[param_name] = value\n",
        "        train_rmse, val_rmse = test_params(ModelClass, **params)\n",
        "        train_errors.append(train_rmse)\n",
        "        val_errors.append(val_rmse)\n",
        "    \n",
        "    plt.figure(figsize=(10,6))\n",
        "    plt.title('Overfitting curve: ' + param_name)\n",
        "    plt.plot(param_values, train_errors, 'b-o')\n",
        "    plt.plot(param_values, val_errors, 'r-o')\n",
        "    plt.xlabel(param_name)\n",
        "    plt.ylabel('RMSE')\n",
        "    plt.legend(['Training', 'Validation'])\n"
      ],
      "metadata": {
        "id": "sbJcQlamyDkw"
      },
      "execution_count": 124,
      "outputs": []
    },
    {
      "cell_type": "code",
      "source": [
        "best_params = {\n",
        "    'random_state': 42,\n",
        "    'n_jobs': -1,\n",
        "    'objective': 'reg:squarederror'\n",
        "}"
      ],
      "metadata": {
        "id": "m09LNFQmyU-2"
      },
      "execution_count": 125,
      "outputs": []
    },
    {
      "cell_type": "code",
      "source": [
        "%%time\n",
        "#test_param_and_plot(XGBRegressor, 'num_estimators', [100, 200, 400], **best_params)"
      ],
      "metadata": {
        "colab": {
          "base_uri": "https://localhost:8080/"
        },
        "id": "0pCY_DqPzE9w",
        "outputId": "3d29d678-dfba-4db9-8653-e8f7a3cd7b19"
      },
      "execution_count": 127,
      "outputs": [
        {
          "output_type": "stream",
          "name": "stdout",
          "text": [
            "CPU times: user 2 µs, sys: 0 ns, total: 2 µs\n",
            "Wall time: 6.68 µs\n"
          ]
        }
      ]
    },
    {
      "cell_type": "code",
      "source": [
        "#best_param['num_estimators'] = ??"
      ],
      "metadata": {
        "id": "13fbnSzQzrY1"
      },
      "execution_count": 128,
      "outputs": []
    },
    {
      "cell_type": "code",
      "source": [
        "#test_param_and_plot(XGBRegressor, 'max_depth', [3, 5, 6], **best_params)"
      ],
      "metadata": {
        "id": "IJosmFa5z20u"
      },
      "execution_count": 130,
      "outputs": []
    },
    {
      "cell_type": "code",
      "source": [
        "#best_param['max_depth'] = ??"
      ],
      "metadata": {
        "id": "RSHYz5tQ0Ws1"
      },
      "execution_count": 131,
      "outputs": []
    },
    {
      "cell_type": "code",
      "source": [
        " #test_param_and_plot(XGBRegressor, 'learning_rate', [3, 5, 7], **best_params)"
      ],
      "metadata": {
        "id": "7kU4WFgD0oRe"
      },
      "execution_count": 133,
      "outputs": []
    },
    {
      "cell_type": "code",
      "source": [
        "09"
      ],
      "metadata": {
        "id": "amM7ntbp3Gn4"
      },
      "execution_count": null,
      "outputs": []
    }
  ],
  "metadata": {
    "colab": {
      "collapsed_sections": [],
      "name": "Taxi_fare_prediction.ipynb",
      "provenance": []
    },
    "kernelspec": {
      "display_name": "Python 3",
      "name": "python3"
    },
    "language_info": {
      "name": "python"
    }
  },
  "nbformat": 4,
  "nbformat_minor": 0
}